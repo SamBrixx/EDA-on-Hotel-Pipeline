{
 "cells": [
  {
   "cell_type": "code",
   "execution_count": 1,
   "id": "93e16a86",
   "metadata": {
    "_cell_guid": "b1076dfc-b9ad-4769-8c92-a6c4dae69d19",
    "_uuid": "8f2839f25d086af736a60e9eeb907d3b93b6e0e5",
    "execution": {
     "iopub.execute_input": "2025-07-17T12:17:33.607610Z",
     "iopub.status.busy": "2025-07-17T12:17:33.607140Z",
     "iopub.status.idle": "2025-07-17T12:17:35.648950Z",
     "shell.execute_reply": "2025-07-17T12:17:35.647906Z"
    },
    "papermill": {
     "duration": 2.053251,
     "end_time": "2025-07-17T12:17:35.650710",
     "exception": false,
     "start_time": "2025-07-17T12:17:33.597459",
     "status": "completed"
    },
    "tags": []
   },
   "outputs": [
    {
     "name": "stdout",
     "output_type": "stream",
     "text": [
      "/kaggle/input/hotel-pipeline-2024/STR Global Data - Hotel Pipeline 2024.csv\n"
     ]
    }
   ],
   "source": [
    "# This Python 3 environment comes with many helpful analytics libraries installed\n",
    "# It is defined by the kaggle/python Docker image: https://github.com/kaggle/docker-python\n",
    "# For example, here's several helpful packages to load\n",
    "\n",
    "import numpy as np # linear algebra\n",
    "import pandas as pd # data processing, CSV file I/O (e.g. pd.read_csv)\n",
    "\n",
    "# Input data files are available in the read-only \"../input/\" directory\n",
    "# For example, running this (by clicking run or pressing Shift+Enter) will list all files under the input directory\n",
    "\n",
    "import os\n",
    "for dirname, _, filenames in os.walk('/kaggle/input'):\n",
    "    for filename in filenames:\n",
    "        print(os.path.join(dirname, filename))\n",
    "\n",
    "# You can write up to 20GB to the current directory (/kaggle/working/) that gets preserved as output when you create a version using \"Save & Run All\" \n",
    "# You can also write temporary files to /kaggle/temp/, but they won't be saved outside of the current session"
   ]
  },
  {
   "cell_type": "markdown",
   "id": "7c85b5c9",
   "metadata": {
    "papermill": {
     "duration": 0.006776,
     "end_time": "2025-07-17T12:17:35.665139",
     "exception": false,
     "start_time": "2025-07-17T12:17:35.658363",
     "status": "completed"
    },
    "tags": []
   },
   "source": [
    "# Exploratory Data Analysis(EDA) on Hotel Pipeline 2024\n",
    "Given my background as a B2B manager at Samsung, a major part of my job was focused on selling hotel TVs and digital signage screens to hotels across East and Central Africa. My interest in transitioning to data science allows me to use my transferable skills from my B2B life so as to see how Data Science can benefit the hospitality industry. Choosing the \"STR Global Data - Hotel Pipeline 2024\" dataset is an excellent choice dataset to explore. This dataset, which details hotel projects across various regions, aligns well with my domain expertise and can help in creating a compelling portfolio project. Below is a step-by-step guide on how I chose to performing Exploratory Data Analysis (EDA) on this dataset, which is tailored to highlight my data science skills while leveraging on my hospitality industry knowledge and experience.\n"
   ]
  },
  {
   "cell_type": "markdown",
   "id": "e8644ca8",
   "metadata": {
    "papermill": {
     "duration": 0.0068,
     "end_time": "2025-07-17T12:17:35.678948",
     "exception": false,
     "start_time": "2025-07-17T12:17:35.672148",
     "status": "completed"
    },
    "tags": []
   },
   "source": [
    "## Thought Process for EDA\n",
    "EDA is about understanding the dataset, uncovering patterns, identifying anomalies, and generating insights that could inform business decisions or further analysis. My goal is to demonstrate proficiency in data manipulation, visualization, statistical analysis, and domain-specific insights relevant to the hospitality industry. Here’s a structured approach:\n",
    "\n",
    "### Understand the Dataset and Define Objectives\n",
    " -  Objective: My aim to answer questions relevant to the hospitality industry, such as identifying trends in hotel development, assessing project viability, or understanding market dynamics in Africa and the Middle East. My prior experience plays a big role in guiding me to focus on aspects like meeting room facilities, project scales, or chain affiliations, which tie into my experience in selling TVs and signage for hotels.\n",
    " - Dataset Overview: The dataset includes columns like Project ID, Project Name, City, Country, Room Count, Projected Opening Date, Project Phase, Affiliation Name, Chain Scale, Management Company, Owner Company, Project Value, and amenities like Pool, Restaurant, and Meeting Space. This rich dataset allows for both numerical and categorical analyses, as well as geospatial and temporal insights.\n",
    "\n"
   ]
  },
  {
   "cell_type": "code",
   "execution_count": 2,
   "id": "ba6e7fa2",
   "metadata": {
    "execution": {
     "iopub.execute_input": "2025-07-17T12:17:35.695230Z",
     "iopub.status.busy": "2025-07-17T12:17:35.694292Z",
     "iopub.status.idle": "2025-07-17T12:17:38.490810Z",
     "shell.execute_reply": "2025-07-17T12:17:38.489729Z"
    },
    "papermill": {
     "duration": 2.806587,
     "end_time": "2025-07-17T12:17:38.492546",
     "exception": false,
     "start_time": "2025-07-17T12:17:35.685959",
     "status": "completed"
    },
    "tags": []
   },
   "outputs": [],
   "source": [
    "import numpy as np\n",
    "import pandas as pd\n",
    "import matplotlib.pyplot as plt\n",
    "import seaborn as sns\n",
    "import geopandas as gpd\n"
   ]
  },
  {
   "cell_type": "code",
   "execution_count": 3,
   "id": "736af231",
   "metadata": {
    "execution": {
     "iopub.execute_input": "2025-07-17T12:17:38.510397Z",
     "iopub.status.busy": "2025-07-17T12:17:38.509936Z",
     "iopub.status.idle": "2025-07-17T12:17:38.586385Z",
     "shell.execute_reply": "2025-07-17T12:17:38.585344Z"
    },
    "papermill": {
     "duration": 0.087662,
     "end_time": "2025-07-17T12:17:38.588491",
     "exception": false,
     "start_time": "2025-07-17T12:17:38.500829",
     "status": "completed"
    },
    "tags": []
   },
   "outputs": [],
   "source": [
    "df = pd.read_csv('/kaggle/input/hotel-pipeline-2024/STR Global Data - Hotel Pipeline 2024.csv')"
   ]
  },
  {
   "cell_type": "markdown",
   "id": "193d326b",
   "metadata": {
    "papermill": {
     "duration": 0.007549,
     "end_time": "2025-07-17T12:17:38.608876",
     "exception": false,
     "start_time": "2025-07-17T12:17:38.601327",
     "status": "completed"
    },
    "tags": []
   },
   "source": [
    "### Inspect Structure:\n",
    " - Check the first few rows with **df.head()** to understand the data.\n",
    " - Examine column names and data types with **df.info()** to identify numeric (e.g., Room Count, Project Value) and categorical (e.g., Country, Chain Scale) variables.\n",
    " - Check for missing values with **df.isnull().sum()** to assess data completeness.\n",
    "\n"
   ]
  },
  {
   "cell_type": "code",
   "execution_count": 4,
   "id": "ae181fe2",
   "metadata": {
    "execution": {
     "iopub.execute_input": "2025-07-17T12:17:38.626808Z",
     "iopub.status.busy": "2025-07-17T12:17:38.626404Z",
     "iopub.status.idle": "2025-07-17T12:17:38.675041Z",
     "shell.execute_reply": "2025-07-17T12:17:38.673856Z"
    },
    "papermill": {
     "duration": 0.05945,
     "end_time": "2025-07-17T12:17:38.677047",
     "exception": false,
     "start_time": "2025-07-17T12:17:38.617597",
     "status": "completed"
    },
    "tags": []
   },
   "outputs": [
    {
     "name": "stderr",
     "output_type": "stream",
     "text": [
      "/usr/local/lib/python3.11/dist-packages/pandas/io/formats/format.py:1458: RuntimeWarning: invalid value encountered in greater\n",
      "  has_large_values = (abs_vals > 1e6).any()\n",
      "/usr/local/lib/python3.11/dist-packages/pandas/io/formats/format.py:1459: RuntimeWarning: invalid value encountered in less\n",
      "  has_small_values = ((abs_vals < 10 ** (-self.digits)) & (abs_vals > 0)).any()\n",
      "/usr/local/lib/python3.11/dist-packages/pandas/io/formats/format.py:1459: RuntimeWarning: invalid value encountered in greater\n",
      "  has_small_values = ((abs_vals < 10 ** (-self.digits)) & (abs_vals > 0)).any()\n",
      "/usr/local/lib/python3.11/dist-packages/pandas/io/formats/format.py:1458: RuntimeWarning: invalid value encountered in greater\n",
      "  has_large_values = (abs_vals > 1e6).any()\n",
      "/usr/local/lib/python3.11/dist-packages/pandas/io/formats/format.py:1459: RuntimeWarning: invalid value encountered in less\n",
      "  has_small_values = ((abs_vals < 10 ** (-self.digits)) & (abs_vals > 0)).any()\n",
      "/usr/local/lib/python3.11/dist-packages/pandas/io/formats/format.py:1459: RuntimeWarning: invalid value encountered in greater\n",
      "  has_small_values = ((abs_vals < 10 ** (-self.digits)) & (abs_vals > 0)).any()\n"
     ]
    },
    {
     "data": {
      "text/html": [
       "<div>\n",
       "<style scoped>\n",
       "    .dataframe tbody tr th:only-of-type {\n",
       "        vertical-align: middle;\n",
       "    }\n",
       "\n",
       "    .dataframe tbody tr th {\n",
       "        vertical-align: top;\n",
       "    }\n",
       "\n",
       "    .dataframe thead th {\n",
       "        text-align: right;\n",
       "    }\n",
       "</style>\n",
       "<table border=\"1\" class=\"dataframe\">\n",
       "  <thead>\n",
       "    <tr style=\"text-align: right;\">\n",
       "      <th></th>\n",
       "      <th>Project ID</th>\n",
       "      <th>Project Name</th>\n",
       "      <th>Address</th>\n",
       "      <th>City</th>\n",
       "      <th>State</th>\n",
       "      <th>Country</th>\n",
       "      <th>Postal Code</th>\n",
       "      <th>Market</th>\n",
       "      <th>Tract</th>\n",
       "      <th>Room Count</th>\n",
       "      <th>...</th>\n",
       "      <th>Total Meeting Space Sq Ft</th>\n",
       "      <th>Project Area (1000 sq. ft)</th>\n",
       "      <th>Project Value (millions$)</th>\n",
       "      <th>Data Source</th>\n",
       "      <th>Executed Date</th>\n",
       "      <th>Date Created</th>\n",
       "      <th>Future STR Number</th>\n",
       "      <th>Latitude</th>\n",
       "      <th>Longitude</th>\n",
       "      <th>Property Hotel ID</th>\n",
       "    </tr>\n",
       "  </thead>\n",
       "  <tbody>\n",
       "    <tr>\n",
       "      <th>0</th>\n",
       "      <td>13429</td>\n",
       "      <td>Hard Rock Abu Dhabi</td>\n",
       "      <td>Festival Blvd Zone 8A</td>\n",
       "      <td>Abu Dhabi</td>\n",
       "      <td>ZZ</td>\n",
       "      <td>United Arab Emirates</td>\n",
       "      <td>126961</td>\n",
       "      <td>Abu Dhabi</td>\n",
       "      <td>Corniche &amp; Downtown</td>\n",
       "      <td>378</td>\n",
       "      <td>...</td>\n",
       "      <td>NaN</td>\n",
       "      <td>283.50</td>\n",
       "      <td>NaN</td>\n",
       "      <td>Costar Research</td>\n",
       "      <td>NaN</td>\n",
       "      <td>12/01/2008</td>\n",
       "      <td>294339.0</td>\n",
       "      <td>24.503017</td>\n",
       "      <td>54.372490</td>\n",
       "      <td>1228849</td>\n",
       "    </tr>\n",
       "    <tr>\n",
       "      <th>1</th>\n",
       "      <td>16395</td>\n",
       "      <td>Hilton Riyadh King Saud University</td>\n",
       "      <td>King Khaled Bin Abdul Aziz Road Rd</td>\n",
       "      <td>Riyadh</td>\n",
       "      <td>ZZ</td>\n",
       "      <td>Saudi Arabia</td>\n",
       "      <td>12371</td>\n",
       "      <td>Saudi Arabia</td>\n",
       "      <td>Riyadh</td>\n",
       "      <td>241</td>\n",
       "      <td>...</td>\n",
       "      <td>NaN</td>\n",
       "      <td>97.91</td>\n",
       "      <td>NaN</td>\n",
       "      <td>Hospitality Feed</td>\n",
       "      <td>NaN</td>\n",
       "      <td>07/01/2010</td>\n",
       "      <td>300392.0</td>\n",
       "      <td>24.708051</td>\n",
       "      <td>46.621446</td>\n",
       "      <td>1046477</td>\n",
       "    </tr>\n",
       "    <tr>\n",
       "      <th>2</th>\n",
       "      <td>16689</td>\n",
       "      <td>InterContinental Dakar</td>\n",
       "      <td>Les Deux Mamelles</td>\n",
       "      <td>Dakar</td>\n",
       "      <td>NaN</td>\n",
       "      <td>Senegal</td>\n",
       "      <td>NaN</td>\n",
       "      <td>Senegal</td>\n",
       "      <td>Senegal</td>\n",
       "      <td>201</td>\n",
       "      <td>...</td>\n",
       "      <td>NaN</td>\n",
       "      <td>97.36</td>\n",
       "      <td>NaN</td>\n",
       "      <td>Hospitality Feed</td>\n",
       "      <td>06/09/2008</td>\n",
       "      <td>07/01/2008</td>\n",
       "      <td>283834.0</td>\n",
       "      <td>14.721126</td>\n",
       "      <td>-17.499653</td>\n",
       "      <td>1184162</td>\n",
       "    </tr>\n",
       "    <tr>\n",
       "      <th>3</th>\n",
       "      <td>18857</td>\n",
       "      <td>Hilton Freetown Cape Sierra</td>\n",
       "      <td>Cape Road Aberdeen Rd</td>\n",
       "      <td>Freetown</td>\n",
       "      <td>NaN</td>\n",
       "      <td>Sierra Leone</td>\n",
       "      <td>47235</td>\n",
       "      <td>Sierra Leone</td>\n",
       "      <td>Sierra Leone</td>\n",
       "      <td>200</td>\n",
       "      <td>...</td>\n",
       "      <td>NaN</td>\n",
       "      <td>150.70</td>\n",
       "      <td>NaN</td>\n",
       "      <td>Hospitality Feed</td>\n",
       "      <td>08/12/2011</td>\n",
       "      <td>08/01/2011</td>\n",
       "      <td>283031.0</td>\n",
       "      <td>8.493333</td>\n",
       "      <td>-13.289921</td>\n",
       "      <td>1046505</td>\n",
       "    </tr>\n",
       "    <tr>\n",
       "      <th>4</th>\n",
       "      <td>20203</td>\n",
       "      <td>Protea Hotel Fire &amp; Ice Gaborone</td>\n",
       "      <td>Gaborone West Extension</td>\n",
       "      <td>Gaborone</td>\n",
       "      <td>NaN</td>\n",
       "      <td>Botswana</td>\n",
       "      <td>NaN</td>\n",
       "      <td>Botswana</td>\n",
       "      <td>Gaborone</td>\n",
       "      <td>160</td>\n",
       "      <td>...</td>\n",
       "      <td>NaN</td>\n",
       "      <td>65.00</td>\n",
       "      <td>NaN</td>\n",
       "      <td>Hospitality Feed</td>\n",
       "      <td>04/01/2016</td>\n",
       "      <td>12/01/2008</td>\n",
       "      <td>NaN</td>\n",
       "      <td>-24.652461</td>\n",
       "      <td>25.926103</td>\n",
       "      <td>1049031</td>\n",
       "    </tr>\n",
       "  </tbody>\n",
       "</table>\n",
       "<p>5 rows × 87 columns</p>\n",
       "</div>"
      ],
      "text/plain": [
       "   Project ID                        Project Name  \\\n",
       "0       13429                 Hard Rock Abu Dhabi   \n",
       "1       16395  Hilton Riyadh King Saud University   \n",
       "2       16689              InterContinental Dakar   \n",
       "3       18857         Hilton Freetown Cape Sierra   \n",
       "4       20203    Protea Hotel Fire & Ice Gaborone   \n",
       "\n",
       "                              Address       City State               Country  \\\n",
       "0               Festival Blvd Zone 8A  Abu Dhabi    ZZ  United Arab Emirates   \n",
       "1  King Khaled Bin Abdul Aziz Road Rd     Riyadh    ZZ          Saudi Arabia   \n",
       "2                   Les Deux Mamelles      Dakar   NaN               Senegal   \n",
       "3               Cape Road Aberdeen Rd   Freetown   NaN          Sierra Leone   \n",
       "4             Gaborone West Extension   Gaborone   NaN              Botswana   \n",
       "\n",
       "  Postal Code        Market                Tract  Room Count  ...  \\\n",
       "0      126961     Abu Dhabi  Corniche & Downtown         378  ...   \n",
       "1       12371  Saudi Arabia               Riyadh         241  ...   \n",
       "2         NaN       Senegal              Senegal         201  ...   \n",
       "3       47235  Sierra Leone         Sierra Leone         200  ...   \n",
       "4         NaN      Botswana             Gaborone         160  ...   \n",
       "\n",
       "   Total Meeting Space Sq Ft  Project Area (1000 sq. ft)  \\\n",
       "0                        NaN                      283.50   \n",
       "1                        NaN                       97.91   \n",
       "2                        NaN                       97.36   \n",
       "3                        NaN                      150.70   \n",
       "4                        NaN                       65.00   \n",
       "\n",
       "   Project Value (millions$)       Data Source Executed Date  Date Created  \\\n",
       "0                        NaN   Costar Research           NaN    12/01/2008   \n",
       "1                        NaN  Hospitality Feed           NaN    07/01/2010   \n",
       "2                        NaN  Hospitality Feed    06/09/2008    07/01/2008   \n",
       "3                        NaN  Hospitality Feed    08/12/2011    08/01/2011   \n",
       "4                        NaN  Hospitality Feed    04/01/2016    12/01/2008   \n",
       "\n",
       "  Future STR Number   Latitude  Longitude  Property Hotel ID  \n",
       "0          294339.0  24.503017  54.372490            1228849  \n",
       "1          300392.0  24.708051  46.621446            1046477  \n",
       "2          283834.0  14.721126 -17.499653            1184162  \n",
       "3          283031.0   8.493333 -13.289921            1046505  \n",
       "4               NaN -24.652461  25.926103            1049031  \n",
       "\n",
       "[5 rows x 87 columns]"
      ]
     },
     "execution_count": 4,
     "metadata": {},
     "output_type": "execute_result"
    }
   ],
   "source": [
    "df.head()"
   ]
  },
  {
   "cell_type": "code",
   "execution_count": 5,
   "id": "fbea0efd",
   "metadata": {
    "execution": {
     "iopub.execute_input": "2025-07-17T12:17:38.702196Z",
     "iopub.status.busy": "2025-07-17T12:17:38.701768Z",
     "iopub.status.idle": "2025-07-17T12:17:38.708793Z",
     "shell.execute_reply": "2025-07-17T12:17:38.707839Z"
    },
    "papermill": {
     "duration": 0.018936,
     "end_time": "2025-07-17T12:17:38.710530",
     "exception": false,
     "start_time": "2025-07-17T12:17:38.691594",
     "status": "completed"
    },
    "tags": []
   },
   "outputs": [
    {
     "data": {
      "text/plain": [
       "(1384, 87)"
      ]
     },
     "execution_count": 5,
     "metadata": {},
     "output_type": "execute_result"
    }
   ],
   "source": [
    "df.shape"
   ]
  },
  {
   "cell_type": "code",
   "execution_count": 6,
   "id": "5f04e7ad",
   "metadata": {
    "execution": {
     "iopub.execute_input": "2025-07-17T12:17:38.727244Z",
     "iopub.status.busy": "2025-07-17T12:17:38.726936Z",
     "iopub.status.idle": "2025-07-17T12:17:38.759541Z",
     "shell.execute_reply": "2025-07-17T12:17:38.758493Z"
    },
    "papermill": {
     "duration": 0.043282,
     "end_time": "2025-07-17T12:17:38.761638",
     "exception": false,
     "start_time": "2025-07-17T12:17:38.718356",
     "status": "completed"
    },
    "tags": []
   },
   "outputs": [
    {
     "name": "stdout",
     "output_type": "stream",
     "text": [
      "<class 'pandas.core.frame.DataFrame'>\n",
      "RangeIndex: 1384 entries, 0 to 1383\n",
      "Data columns (total 87 columns):\n",
      " #   Column                       Non-Null Count  Dtype  \n",
      "---  ------                       --------------  -----  \n",
      " 0   Project ID                   1384 non-null   int64  \n",
      " 1   Project Name                 1384 non-null   object \n",
      " 2   Address                      1384 non-null   object \n",
      " 3   City                         1384 non-null   object \n",
      " 4   State                        732 non-null    object \n",
      " 5   Country                      1384 non-null   object \n",
      " 6   Postal Code                  503 non-null    object \n",
      " 7   Market                       1384 non-null   object \n",
      " 8   Tract                        1384 non-null   object \n",
      " 9   Room Count                   1384 non-null   int64  \n",
      " 10  Condotel Room Count          0 non-null      float64\n",
      " 11  Non-Rental Residences        0 non-null      float64\n",
      " 12  Timeshare Units              0 non-null      float64\n",
      " 13  Projected Opening Date       1069 non-null   object \n",
      " 14  Project Phase                1384 non-null   object \n",
      " 15  Affiliation Code             1384 non-null   int64  \n",
      " 16  Affiliation Name             1384 non-null   object \n",
      " 17  Chain Scale                  1384 non-null   object \n",
      " 18  Project Overview             22 non-null     object \n",
      " 19  Date Entered Pre-Planning    0 non-null      float64\n",
      " 20  Date Entered Planning        620 non-null    object \n",
      " 21  Date Entered Final Planning  469 non-null    object \n",
      " 22  Date Entered Construction    647 non-null    object \n",
      " 23  Date Entered Deferred        346 non-null    object \n",
      " 24  Date Entered Abandoned       115 non-null    object \n",
      " 25  Management Company Name      896 non-null    object \n",
      " 26  Management Contact Name      54 non-null     object \n",
      " 27  Management Address 1         814 non-null    object \n",
      " 28  Management Address 2         387 non-null    object \n",
      " 29  Management City              863 non-null    object \n",
      " 30  Management State             736 non-null    object \n",
      " 31  Management Country           857 non-null    object \n",
      " 32  Management Postal Code       827 non-null    object \n",
      " 33  Management Phone             813 non-null    float64\n",
      " 34  Management Email             76 non-null     object \n",
      " 35  Management Website           849 non-null    object \n",
      " 36  Owner Company Name           626 non-null    object \n",
      " 37  Owner Contact Name           31 non-null     object \n",
      " 38  Owner Address 1              316 non-null    object \n",
      " 39  Owner Address 2              13 non-null     object \n",
      " 40  Owner City                   347 non-null    object \n",
      " 41  Owner State                  104 non-null    object \n",
      " 42  Owner Country                323 non-null    object \n",
      " 43  Owner Postal Code            190 non-null    object \n",
      " 44  Owner Phone                  253 non-null    float64\n",
      " 45  Owner Email                  54 non-null     object \n",
      " 46  Owner Website                264 non-null    object \n",
      " 47  Developer Company Name       332 non-null    object \n",
      " 48  Developer Contact Name       5 non-null      object \n",
      " 49  Developer Address 1          219 non-null    object \n",
      " 50  Developer Address 2          8 non-null      object \n",
      " 51  Developer City               223 non-null    object \n",
      " 52  Developer State              58 non-null     object \n",
      " 53  Developer Country            227 non-null    object \n",
      " 54  Developer Postal Code        105 non-null    object \n",
      " 55  Developer Phone              131 non-null    float64\n",
      " 56  Developer Email              25 non-null     object \n",
      " 57  Developer Website            140 non-null    object \n",
      " 58  Architect Company Name       324 non-null    object \n",
      " 59  Architect Contact Name       13 non-null     object \n",
      " 60  Architect Address1           231 non-null    object \n",
      " 61  Architect Address 2          36 non-null     object \n",
      " 62  Architect City               229 non-null    object \n",
      " 63  Architect State              113 non-null    object \n",
      " 64  Architect Country            233 non-null    object \n",
      " 65  Architect Postal Code        126 non-null    object \n",
      " 66  Architect Phone              179 non-null    float64\n",
      " 67  Architect Email              32 non-null     object \n",
      " 68  Architect Website            166 non-null    object \n",
      " 69  Parent Company Name          1103 non-null   object \n",
      " 70  Condotel (Y/N)               1384 non-null   object \n",
      " 71  Pool (Y/N)                   1384 non-null   object \n",
      " 72  Restaurant (Y/N)             1384 non-null   object \n",
      " 73  Business Center (Y/N)        1384 non-null   object \n",
      " 74  Meeting Space (Y/N)          1384 non-null   object \n",
      " 75  Number of Meeting Rooms      66 non-null     float64\n",
      " 76  Largest Meeting Room Sq Ft   58 non-null     float64\n",
      " 77  Total Meeting Space Sq Ft    58 non-null     float64\n",
      " 78  Project Area (1000 sq. ft)   1363 non-null   float64\n",
      " 79  Project Value (millions$)    0 non-null      float64\n",
      " 80  Data Source                  1384 non-null   object \n",
      " 81  Executed Date                707 non-null    object \n",
      " 82  Date Created                 1384 non-null   object \n",
      " 83  Future STR Number            633 non-null    float64\n",
      " 84  Latitude                     1384 non-null   float64\n",
      " 85  Longitude                    1384 non-null   float64\n",
      " 86  Property Hotel ID            1384 non-null   int64  \n",
      "dtypes: float64(16), int64(4), object(67)\n",
      "memory usage: 940.8+ KB\n"
     ]
    }
   ],
   "source": [
    "df.info()"
   ]
  },
  {
   "cell_type": "code",
   "execution_count": 7,
   "id": "953892d1",
   "metadata": {
    "execution": {
     "iopub.execute_input": "2025-07-17T12:17:38.779123Z",
     "iopub.status.busy": "2025-07-17T12:17:38.778796Z",
     "iopub.status.idle": "2025-07-17T12:17:38.791579Z",
     "shell.execute_reply": "2025-07-17T12:17:38.790598Z"
    },
    "papermill": {
     "duration": 0.023329,
     "end_time": "2025-07-17T12:17:38.793193",
     "exception": false,
     "start_time": "2025-07-17T12:17:38.769864",
     "status": "completed"
    },
    "tags": []
   },
   "outputs": [
    {
     "data": {
      "text/plain": [
       "Project ID             0\n",
       "Project Name           0\n",
       "Address                0\n",
       "City                   0\n",
       "State                652\n",
       "                    ... \n",
       "Date Created           0\n",
       "Future STR Number    751\n",
       "Latitude               0\n",
       "Longitude              0\n",
       "Property Hotel ID      0\n",
       "Length: 87, dtype: int64"
      ]
     },
     "execution_count": 7,
     "metadata": {},
     "output_type": "execute_result"
    }
   ],
   "source": [
    "df.isnull().sum()"
   ]
  },
  {
   "cell_type": "code",
   "execution_count": 8,
   "id": "a4dfdd81",
   "metadata": {
    "execution": {
     "iopub.execute_input": "2025-07-17T12:17:38.811112Z",
     "iopub.status.busy": "2025-07-17T12:17:38.810809Z",
     "iopub.status.idle": "2025-07-17T12:17:38.875907Z",
     "shell.execute_reply": "2025-07-17T12:17:38.874956Z"
    },
    "papermill": {
     "duration": 0.075915,
     "end_time": "2025-07-17T12:17:38.877550",
     "exception": false,
     "start_time": "2025-07-17T12:17:38.801635",
     "status": "completed"
    },
    "tags": []
   },
   "outputs": [
    {
     "name": "stderr",
     "output_type": "stream",
     "text": [
      "/usr/local/lib/python3.11/dist-packages/pandas/io/formats/format.py:1458: RuntimeWarning: invalid value encountered in greater\n",
      "  has_large_values = (abs_vals > 1e6).any()\n",
      "/usr/local/lib/python3.11/dist-packages/pandas/io/formats/format.py:1459: RuntimeWarning: invalid value encountered in less\n",
      "  has_small_values = ((abs_vals < 10 ** (-self.digits)) & (abs_vals > 0)).any()\n",
      "/usr/local/lib/python3.11/dist-packages/pandas/io/formats/format.py:1459: RuntimeWarning: invalid value encountered in greater\n",
      "  has_small_values = ((abs_vals < 10 ** (-self.digits)) & (abs_vals > 0)).any()\n"
     ]
    },
    {
     "data": {
      "text/html": [
       "<div>\n",
       "<style scoped>\n",
       "    .dataframe tbody tr th:only-of-type {\n",
       "        vertical-align: middle;\n",
       "    }\n",
       "\n",
       "    .dataframe tbody tr th {\n",
       "        vertical-align: top;\n",
       "    }\n",
       "\n",
       "    .dataframe thead th {\n",
       "        text-align: right;\n",
       "    }\n",
       "</style>\n",
       "<table border=\"1\" class=\"dataframe\">\n",
       "  <thead>\n",
       "    <tr style=\"text-align: right;\">\n",
       "      <th></th>\n",
       "      <th>Project ID</th>\n",
       "      <th>Room Count</th>\n",
       "      <th>Condotel Room Count</th>\n",
       "      <th>Non-Rental Residences</th>\n",
       "      <th>Timeshare Units</th>\n",
       "      <th>Affiliation Code</th>\n",
       "      <th>Date Entered Pre-Planning</th>\n",
       "      <th>Management Phone</th>\n",
       "      <th>Owner Phone</th>\n",
       "      <th>Developer Phone</th>\n",
       "      <th>Architect Phone</th>\n",
       "      <th>Number of Meeting Rooms</th>\n",
       "      <th>Largest Meeting Room Sq Ft</th>\n",
       "      <th>Total Meeting Space Sq Ft</th>\n",
       "      <th>Project Area (1000 sq. ft)</th>\n",
       "      <th>Project Value (millions$)</th>\n",
       "      <th>Future STR Number</th>\n",
       "      <th>Latitude</th>\n",
       "      <th>Longitude</th>\n",
       "      <th>Property Hotel ID</th>\n",
       "    </tr>\n",
       "  </thead>\n",
       "  <tbody>\n",
       "    <tr>\n",
       "      <th>count</th>\n",
       "      <td>1.384000e+03</td>\n",
       "      <td>1384.000000</td>\n",
       "      <td>0.0</td>\n",
       "      <td>0.0</td>\n",
       "      <td>0.0</td>\n",
       "      <td>1.384000e+03</td>\n",
       "      <td>0.0</td>\n",
       "      <td>8.130000e+02</td>\n",
       "      <td>2.530000e+02</td>\n",
       "      <td>1.310000e+02</td>\n",
       "      <td>1.790000e+02</td>\n",
       "      <td>66.000000</td>\n",
       "      <td>58.000000</td>\n",
       "      <td>58.000000</td>\n",
       "      <td>1363.000000</td>\n",
       "      <td>0.0</td>\n",
       "      <td>633.000000</td>\n",
       "      <td>1384.000000</td>\n",
       "      <td>1384.000000</td>\n",
       "      <td>1.384000e+03</td>\n",
       "    </tr>\n",
       "    <tr>\n",
       "      <th>mean</th>\n",
       "      <td>4.864369e+06</td>\n",
       "      <td>231.926301</td>\n",
       "      <td>NaN</td>\n",
       "      <td>NaN</td>\n",
       "      <td>NaN</td>\n",
       "      <td>1.821329e+05</td>\n",
       "      <td>NaN</td>\n",
       "      <td>4.208048e+09</td>\n",
       "      <td>2.632177e+09</td>\n",
       "      <td>1.351526e+09</td>\n",
       "      <td>4.854484e+09</td>\n",
       "      <td>4.469697</td>\n",
       "      <td>9466.041931</td>\n",
       "      <td>12359.932172</td>\n",
       "      <td>152.699633</td>\n",
       "      <td>NaN</td>\n",
       "      <td>291966.148499</td>\n",
       "      <td>19.424057</td>\n",
       "      <td>36.291186</td>\n",
       "      <td>1.332710e+06</td>\n",
       "    </tr>\n",
       "    <tr>\n",
       "      <th>std</th>\n",
       "      <td>5.073128e+06</td>\n",
       "      <td>342.135386</td>\n",
       "      <td>NaN</td>\n",
       "      <td>NaN</td>\n",
       "      <td>NaN</td>\n",
       "      <td>1.335530e+06</td>\n",
       "      <td>NaN</td>\n",
       "      <td>2.135718e+10</td>\n",
       "      <td>1.384278e+10</td>\n",
       "      <td>8.600806e+09</td>\n",
       "      <td>3.269481e+10</td>\n",
       "      <td>2.724361</td>\n",
       "      <td>21693.243309</td>\n",
       "      <td>22440.547574</td>\n",
       "      <td>479.810485</td>\n",
       "      <td>NaN</td>\n",
       "      <td>21646.612962</td>\n",
       "      <td>13.757410</td>\n",
       "      <td>19.447866</td>\n",
       "      <td>3.262729e+05</td>\n",
       "    </tr>\n",
       "    <tr>\n",
       "      <th>min</th>\n",
       "      <td>1.342900e+04</td>\n",
       "      <td>0.000000</td>\n",
       "      <td>NaN</td>\n",
       "      <td>NaN</td>\n",
       "      <td>NaN</td>\n",
       "      <td>6.000000e+00</td>\n",
       "      <td>NaN</td>\n",
       "      <td>9.740000e+02</td>\n",
       "      <td>2.300000e+02</td>\n",
       "      <td>9.740000e+02</td>\n",
       "      <td>9.660000e+02</td>\n",
       "      <td>1.000000</td>\n",
       "      <td>172.222000</td>\n",
       "      <td>279.861000</td>\n",
       "      <td>0.010000</td>\n",
       "      <td>NaN</td>\n",
       "      <td>111140.000000</td>\n",
       "      <td>-34.798023</td>\n",
       "      <td>-24.992356</td>\n",
       "      <td>1.041757e+06</td>\n",
       "    </tr>\n",
       "    <tr>\n",
       "      <th>25%</th>\n",
       "      <td>7.781175e+04</td>\n",
       "      <td>120.000000</td>\n",
       "      <td>NaN</td>\n",
       "      <td>NaN</td>\n",
       "      <td>NaN</td>\n",
       "      <td>6.700000e+02</td>\n",
       "      <td>NaN</td>\n",
       "      <td>1.453886e+08</td>\n",
       "      <td>4.334000e+07</td>\n",
       "      <td>4.288912e+07</td>\n",
       "      <td>4.329229e+07</td>\n",
       "      <td>2.000000</td>\n",
       "      <td>1143.372000</td>\n",
       "      <td>2502.609000</td>\n",
       "      <td>55.760000</td>\n",
       "      <td>NaN</td>\n",
       "      <td>290364.000000</td>\n",
       "      <td>17.000019</td>\n",
       "      <td>31.295495</td>\n",
       "      <td>1.126581e+06</td>\n",
       "    </tr>\n",
       "    <tr>\n",
       "      <th>50%</th>\n",
       "      <td>1.078525e+05</td>\n",
       "      <td>180.000000</td>\n",
       "      <td>NaN</td>\n",
       "      <td>NaN</td>\n",
       "      <td>NaN</td>\n",
       "      <td>1.152000e+03</td>\n",
       "      <td>NaN</td>\n",
       "      <td>2.261372e+09</td>\n",
       "      <td>1.144522e+08</td>\n",
       "      <td>1.126579e+08</td>\n",
       "      <td>1.177916e+08</td>\n",
       "      <td>4.000000</td>\n",
       "      <td>3896.535000</td>\n",
       "      <td>6151.574000</td>\n",
       "      <td>96.880000</td>\n",
       "      <td>NaN</td>\n",
       "      <td>294896.000000</td>\n",
       "      <td>24.763958</td>\n",
       "      <td>39.532850</td>\n",
       "      <td>1.229859e+06</td>\n",
       "    </tr>\n",
       "    <tr>\n",
       "      <th>75%</th>\n",
       "      <td>1.023514e+07</td>\n",
       "      <td>252.000000</td>\n",
       "      <td>NaN</td>\n",
       "      <td>NaN</td>\n",
       "      <td>NaN</td>\n",
       "      <td>2.000000e+03</td>\n",
       "      <td>NaN</td>\n",
       "      <td>4.168743e+09</td>\n",
       "      <td>5.553096e+08</td>\n",
       "      <td>5.073029e+08</td>\n",
       "      <td>2.077380e+09</td>\n",
       "      <td>7.000000</td>\n",
       "      <td>7991.323250</td>\n",
       "      <td>11504.183250</td>\n",
       "      <td>150.700000</td>\n",
       "      <td>NaN</td>\n",
       "      <td>300007.000000</td>\n",
       "      <td>26.217443</td>\n",
       "      <td>51.356713</td>\n",
       "      <td>1.253149e+06</td>\n",
       "    </tr>\n",
       "    <tr>\n",
       "      <th>max</th>\n",
       "      <td>1.032732e+07</td>\n",
       "      <td>9000.000000</td>\n",
       "      <td>NaN</td>\n",
       "      <td>NaN</td>\n",
       "      <td>NaN</td>\n",
       "      <td>1.620987e+07</td>\n",
       "      <td>NaN</td>\n",
       "      <td>4.903077e+11</td>\n",
       "      <td>1.165671e+11</td>\n",
       "      <td>9.714390e+10</td>\n",
       "      <td>3.108843e+11</td>\n",
       "      <td>12.000000</td>\n",
       "      <td>156410.382000</td>\n",
       "      <td>156410.382000</td>\n",
       "      <td>12916.690000</td>\n",
       "      <td>NaN</td>\n",
       "      <td>311848.000000</td>\n",
       "      <td>36.925601</td>\n",
       "      <td>59.766793</td>\n",
       "      <td>2.008060e+06</td>\n",
       "    </tr>\n",
       "  </tbody>\n",
       "</table>\n",
       "</div>"
      ],
      "text/plain": [
       "         Project ID   Room Count  Condotel Room Count  Non-Rental Residences  \\\n",
       "count  1.384000e+03  1384.000000                  0.0                    0.0   \n",
       "mean   4.864369e+06   231.926301                  NaN                    NaN   \n",
       "std    5.073128e+06   342.135386                  NaN                    NaN   \n",
       "min    1.342900e+04     0.000000                  NaN                    NaN   \n",
       "25%    7.781175e+04   120.000000                  NaN                    NaN   \n",
       "50%    1.078525e+05   180.000000                  NaN                    NaN   \n",
       "75%    1.023514e+07   252.000000                  NaN                    NaN   \n",
       "max    1.032732e+07  9000.000000                  NaN                    NaN   \n",
       "\n",
       "       Timeshare Units  Affiliation Code  Date Entered Pre-Planning  \\\n",
       "count              0.0      1.384000e+03                        0.0   \n",
       "mean               NaN      1.821329e+05                        NaN   \n",
       "std                NaN      1.335530e+06                        NaN   \n",
       "min                NaN      6.000000e+00                        NaN   \n",
       "25%                NaN      6.700000e+02                        NaN   \n",
       "50%                NaN      1.152000e+03                        NaN   \n",
       "75%                NaN      2.000000e+03                        NaN   \n",
       "max                NaN      1.620987e+07                        NaN   \n",
       "\n",
       "       Management Phone   Owner Phone  Developer Phone  Architect Phone  \\\n",
       "count      8.130000e+02  2.530000e+02     1.310000e+02     1.790000e+02   \n",
       "mean       4.208048e+09  2.632177e+09     1.351526e+09     4.854484e+09   \n",
       "std        2.135718e+10  1.384278e+10     8.600806e+09     3.269481e+10   \n",
       "min        9.740000e+02  2.300000e+02     9.740000e+02     9.660000e+02   \n",
       "25%        1.453886e+08  4.334000e+07     4.288912e+07     4.329229e+07   \n",
       "50%        2.261372e+09  1.144522e+08     1.126579e+08     1.177916e+08   \n",
       "75%        4.168743e+09  5.553096e+08     5.073029e+08     2.077380e+09   \n",
       "max        4.903077e+11  1.165671e+11     9.714390e+10     3.108843e+11   \n",
       "\n",
       "       Number of Meeting Rooms  Largest Meeting Room Sq Ft  \\\n",
       "count                66.000000                   58.000000   \n",
       "mean                  4.469697                 9466.041931   \n",
       "std                   2.724361                21693.243309   \n",
       "min                   1.000000                  172.222000   \n",
       "25%                   2.000000                 1143.372000   \n",
       "50%                   4.000000                 3896.535000   \n",
       "75%                   7.000000                 7991.323250   \n",
       "max                  12.000000               156410.382000   \n",
       "\n",
       "       Total Meeting Space Sq Ft  Project Area (1000 sq. ft)  \\\n",
       "count                  58.000000                 1363.000000   \n",
       "mean                12359.932172                  152.699633   \n",
       "std                 22440.547574                  479.810485   \n",
       "min                   279.861000                    0.010000   \n",
       "25%                  2502.609000                   55.760000   \n",
       "50%                  6151.574000                   96.880000   \n",
       "75%                 11504.183250                  150.700000   \n",
       "max                156410.382000                12916.690000   \n",
       "\n",
       "       Project Value (millions$)  Future STR Number     Latitude    Longitude  \\\n",
       "count                        0.0         633.000000  1384.000000  1384.000000   \n",
       "mean                         NaN      291966.148499    19.424057    36.291186   \n",
       "std                          NaN       21646.612962    13.757410    19.447866   \n",
       "min                          NaN      111140.000000   -34.798023   -24.992356   \n",
       "25%                          NaN      290364.000000    17.000019    31.295495   \n",
       "50%                          NaN      294896.000000    24.763958    39.532850   \n",
       "75%                          NaN      300007.000000    26.217443    51.356713   \n",
       "max                          NaN      311848.000000    36.925601    59.766793   \n",
       "\n",
       "       Property Hotel ID  \n",
       "count       1.384000e+03  \n",
       "mean        1.332710e+06  \n",
       "std         3.262729e+05  \n",
       "min         1.041757e+06  \n",
       "25%         1.126581e+06  \n",
       "50%         1.229859e+06  \n",
       "75%         1.253149e+06  \n",
       "max         2.008060e+06  "
      ]
     },
     "execution_count": 8,
     "metadata": {},
     "output_type": "execute_result"
    }
   ],
   "source": [
    "df.describe()"
   ]
  },
  {
   "cell_type": "code",
   "execution_count": 9,
   "id": "87d70ef3",
   "metadata": {
    "execution": {
     "iopub.execute_input": "2025-07-17T12:17:38.896247Z",
     "iopub.status.busy": "2025-07-17T12:17:38.895341Z",
     "iopub.status.idle": "2025-07-17T12:17:38.902482Z",
     "shell.execute_reply": "2025-07-17T12:17:38.901495Z"
    },
    "papermill": {
     "duration": 0.018092,
     "end_time": "2025-07-17T12:17:38.904155",
     "exception": false,
     "start_time": "2025-07-17T12:17:38.886063",
     "status": "completed"
    },
    "tags": []
   },
   "outputs": [
    {
     "data": {
      "text/plain": [
       "Index(['Project ID', 'Project Name', 'Address', 'City', 'State', 'Country',\n",
       "       'Postal Code', 'Market', 'Tract', 'Room Count', 'Condotel Room Count',\n",
       "       'Non-Rental Residences', 'Timeshare Units', 'Projected Opening Date',\n",
       "       'Project Phase', 'Affiliation Code', 'Affiliation Name', 'Chain Scale',\n",
       "       'Project Overview', 'Date Entered Pre-Planning',\n",
       "       'Date Entered Planning', 'Date Entered Final Planning',\n",
       "       'Date Entered Construction', 'Date Entered Deferred',\n",
       "       'Date Entered Abandoned', 'Management Company Name',\n",
       "       'Management Contact Name', 'Management Address 1',\n",
       "       'Management Address 2', 'Management City', 'Management State',\n",
       "       'Management Country', 'Management Postal Code', 'Management Phone',\n",
       "       'Management Email', 'Management Website', 'Owner Company Name',\n",
       "       'Owner Contact Name', 'Owner Address 1', 'Owner Address 2',\n",
       "       'Owner City', 'Owner State', 'Owner Country', 'Owner Postal Code',\n",
       "       'Owner Phone', 'Owner Email', 'Owner Website', 'Developer Company Name',\n",
       "       'Developer Contact Name', 'Developer Address 1', 'Developer Address 2',\n",
       "       'Developer City', 'Developer State', 'Developer Country',\n",
       "       'Developer Postal Code', 'Developer Phone', 'Developer Email',\n",
       "       'Developer Website', 'Architect Company Name', 'Architect Contact Name',\n",
       "       'Architect Address1', 'Architect Address 2', 'Architect City',\n",
       "       'Architect State', 'Architect Country', 'Architect Postal Code',\n",
       "       'Architect Phone', 'Architect Email', 'Architect Website',\n",
       "       'Parent Company Name', 'Condotel (Y/N)', 'Pool (Y/N)',\n",
       "       'Restaurant (Y/N)', 'Business Center (Y/N)', 'Meeting Space (Y/N)',\n",
       "       'Number of Meeting Rooms', 'Largest Meeting Room Sq Ft',\n",
       "       'Total Meeting Space Sq Ft', 'Project Area (1000 sq. ft)',\n",
       "       'Project Value (millions$)', 'Data Source', 'Executed Date',\n",
       "       'Date Created', 'Future STR Number', 'Latitude', 'Longitude',\n",
       "       'Property Hotel ID'],\n",
       "      dtype='object')"
      ]
     },
     "execution_count": 9,
     "metadata": {},
     "output_type": "execute_result"
    }
   ],
   "source": [
    "df.columns"
   ]
  },
  {
   "cell_type": "markdown",
   "id": "f7a4a04b",
   "metadata": {
    "papermill": {
     "duration": 0.008118,
     "end_time": "2025-07-17T12:17:38.920830",
     "exception": false,
     "start_time": "2025-07-17T12:17:38.912712",
     "status": "completed"
    },
    "tags": []
   },
   "source": [
    "### Data Cleaning\n",
    " - **Handle Missing Values**:\n",
    "    - Columns like Room Count, Projected Opening Date, and Project Phase are\n",
    "      critical. If missing, consider imputing (e.g., median for numerical\n",
    "      columns) or excluding rows or columns for key analyses.\n",
    "    - For categorical columns like Management Company Name or Owner Company\n",
    "      Name, replace missing values with \"Unknown\" or analyze patterns\n",
    "      in missingness (e.g., are smaller projects more likely to lack owner\n",
    "      details?)."
   ]
  },
  {
   "cell_type": "code",
   "execution_count": 10,
   "id": "fd275756",
   "metadata": {
    "execution": {
     "iopub.execute_input": "2025-07-17T12:17:38.940889Z",
     "iopub.status.busy": "2025-07-17T12:17:38.940482Z",
     "iopub.status.idle": "2025-07-17T12:17:38.949925Z",
     "shell.execute_reply": "2025-07-17T12:17:38.948749Z"
    },
    "papermill": {
     "duration": 0.02216,
     "end_time": "2025-07-17T12:17:38.951668",
     "exception": false,
     "start_time": "2025-07-17T12:17:38.929508",
     "status": "completed"
    },
    "tags": []
   },
   "outputs": [],
   "source": [
    "# I have chosen to reduce the number of columns so as to remain with the relevant columns with the information we need\n",
    "\n",
    "df = df[['Project Name', 'Address', 'City', \n",
    "         #'State', \n",
    "         'Country',\n",
    "         #'Postal Code', 'Market', 'Tract','Project ID'\n",
    "         'Room Count', #'Condotel Room Count','Non-Rental Residences', 'Timeshare Units', \n",
    "         'Projected Opening Date',\n",
    "         'Project Phase', #'Affiliation Code', \n",
    "         'Affiliation Name', 'Chain Scale',\n",
    "         #'Project Overview', 'Date Entered Pre-Planning',\n",
    "         #'Date Entered Planning', 'Date Entered Final Planning','Date Entered Construction', 'Date Entered Deferred','Date Entered Abandoned', \n",
    "         #'Management Company Name','Management Contact Name', 'Management Address 1',Management Address 2', 'Management City', 'Management State',\n",
    "         #'Management Country', 'Management Postal Code', 'Management Phone','Management Email', 'Management Website', \n",
    "         #Owner Company Name','Owner Contact Name', 'Owner Address 1', 'Owner Address 2','Owner City', 'Owner State', \n",
    "         #Owner Country','Owner Postal Code','Owner Phone', 'Owner Email', 'Owner Website', \n",
    "         #Developer Company Name','Developer Contact Name', 'Developer Address 1', 'Developer Address 2','Developer City', 'Developer State', Developer Country',\n",
    "         #'Developer Postal Code', 'Developer Phone', 'Developer Email','Developer Website', \n",
    "         #'Architect Company Name','Architect Contact Name','Architect Address1', 'Architect Address 2', 'Architect City','Architect State', \n",
    "         #Architect Country','Architect Postal Code','Architect Phone', 'Architect Email', 'Architect Website','Parent Company Name','Property Hotel ID' \n",
    "         'Condotel (Y/N)', 'Pool (Y/N)','Restaurant (Y/N)', 'Business Center (Y/N)', 'Meeting Space (Y/N)',\n",
    "         #Number of Meeting Rooms', 'Largest Meeting Room Sq Ft',Total Meeting Space Sq Ft', \n",
    "         'Project Area (1000 sq. ft)',\n",
    "         #'Project Value (millions$)', \n",
    "         'Data Source', \n",
    "         #'Executed Date',\n",
    "         'Date Created', \n",
    "         #'Future STR Number', \n",
    "         'Latitude', 'Longitude',]].copy()"
   ]
  },
  {
   "cell_type": "code",
   "execution_count": 11,
   "id": "0f8da373",
   "metadata": {
    "execution": {
     "iopub.execute_input": "2025-07-17T12:17:38.971228Z",
     "iopub.status.busy": "2025-07-17T12:17:38.970909Z",
     "iopub.status.idle": "2025-07-17T12:17:38.977645Z",
     "shell.execute_reply": "2025-07-17T12:17:38.976495Z"
    },
    "papermill": {
     "duration": 0.018024,
     "end_time": "2025-07-17T12:17:38.979175",
     "exception": false,
     "start_time": "2025-07-17T12:17:38.961151",
     "status": "completed"
    },
    "tags": []
   },
   "outputs": [
    {
     "data": {
      "text/plain": [
       "Index(['Project Name', 'Address', 'City', 'Country', 'Room Count',\n",
       "       'Projected Opening Date', 'Project Phase', 'Affiliation Name',\n",
       "       'Chain Scale', 'Condotel (Y/N)', 'Pool (Y/N)', 'Restaurant (Y/N)',\n",
       "       'Business Center (Y/N)', 'Meeting Space (Y/N)',\n",
       "       'Project Area (1000 sq. ft)', 'Data Source', 'Date Created', 'Latitude',\n",
       "       'Longitude'],\n",
       "      dtype='object')"
      ]
     },
     "execution_count": 11,
     "metadata": {},
     "output_type": "execute_result"
    }
   ],
   "source": [
    "df.columns"
   ]
  },
  {
   "cell_type": "code",
   "execution_count": 12,
   "id": "ace27048",
   "metadata": {
    "execution": {
     "iopub.execute_input": "2025-07-17T12:17:39.001581Z",
     "iopub.status.busy": "2025-07-17T12:17:39.001229Z",
     "iopub.status.idle": "2025-07-17T12:17:39.020171Z",
     "shell.execute_reply": "2025-07-17T12:17:39.019190Z"
    },
    "papermill": {
     "duration": 0.031204,
     "end_time": "2025-07-17T12:17:39.022104",
     "exception": false,
     "start_time": "2025-07-17T12:17:38.990900",
     "status": "completed"
    },
    "tags": []
   },
   "outputs": [
    {
     "data": {
      "text/html": [
       "<div>\n",
       "<style scoped>\n",
       "    .dataframe tbody tr th:only-of-type {\n",
       "        vertical-align: middle;\n",
       "    }\n",
       "\n",
       "    .dataframe tbody tr th {\n",
       "        vertical-align: top;\n",
       "    }\n",
       "\n",
       "    .dataframe thead th {\n",
       "        text-align: right;\n",
       "    }\n",
       "</style>\n",
       "<table border=\"1\" class=\"dataframe\">\n",
       "  <thead>\n",
       "    <tr style=\"text-align: right;\">\n",
       "      <th></th>\n",
       "      <th>Room Count</th>\n",
       "      <th>Project Area (1000 sq. ft)</th>\n",
       "      <th>Latitude</th>\n",
       "      <th>Longitude</th>\n",
       "    </tr>\n",
       "  </thead>\n",
       "  <tbody>\n",
       "    <tr>\n",
       "      <th>count</th>\n",
       "      <td>1384.000000</td>\n",
       "      <td>1363.000000</td>\n",
       "      <td>1384.000000</td>\n",
       "      <td>1384.000000</td>\n",
       "    </tr>\n",
       "    <tr>\n",
       "      <th>mean</th>\n",
       "      <td>231.926301</td>\n",
       "      <td>152.699633</td>\n",
       "      <td>19.424057</td>\n",
       "      <td>36.291186</td>\n",
       "    </tr>\n",
       "    <tr>\n",
       "      <th>std</th>\n",
       "      <td>342.135386</td>\n",
       "      <td>479.810485</td>\n",
       "      <td>13.757410</td>\n",
       "      <td>19.447866</td>\n",
       "    </tr>\n",
       "    <tr>\n",
       "      <th>min</th>\n",
       "      <td>0.000000</td>\n",
       "      <td>0.010000</td>\n",
       "      <td>-34.798023</td>\n",
       "      <td>-24.992356</td>\n",
       "    </tr>\n",
       "    <tr>\n",
       "      <th>25%</th>\n",
       "      <td>120.000000</td>\n",
       "      <td>55.760000</td>\n",
       "      <td>17.000019</td>\n",
       "      <td>31.295495</td>\n",
       "    </tr>\n",
       "    <tr>\n",
       "      <th>50%</th>\n",
       "      <td>180.000000</td>\n",
       "      <td>96.880000</td>\n",
       "      <td>24.763958</td>\n",
       "      <td>39.532850</td>\n",
       "    </tr>\n",
       "    <tr>\n",
       "      <th>75%</th>\n",
       "      <td>252.000000</td>\n",
       "      <td>150.700000</td>\n",
       "      <td>26.217443</td>\n",
       "      <td>51.356713</td>\n",
       "    </tr>\n",
       "    <tr>\n",
       "      <th>max</th>\n",
       "      <td>9000.000000</td>\n",
       "      <td>12916.690000</td>\n",
       "      <td>36.925601</td>\n",
       "      <td>59.766793</td>\n",
       "    </tr>\n",
       "  </tbody>\n",
       "</table>\n",
       "</div>"
      ],
      "text/plain": [
       "        Room Count  Project Area (1000 sq. ft)     Latitude    Longitude\n",
       "count  1384.000000                 1363.000000  1384.000000  1384.000000\n",
       "mean    231.926301                  152.699633    19.424057    36.291186\n",
       "std     342.135386                  479.810485    13.757410    19.447866\n",
       "min       0.000000                    0.010000   -34.798023   -24.992356\n",
       "25%     120.000000                   55.760000    17.000019    31.295495\n",
       "50%     180.000000                   96.880000    24.763958    39.532850\n",
       "75%     252.000000                  150.700000    26.217443    51.356713\n",
       "max    9000.000000                12916.690000    36.925601    59.766793"
      ]
     },
     "execution_count": 12,
     "metadata": {},
     "output_type": "execute_result"
    }
   ],
   "source": [
    "df.describe()"
   ]
  },
  {
   "cell_type": "code",
   "execution_count": 13,
   "id": "d4fbf8bb",
   "metadata": {
    "execution": {
     "iopub.execute_input": "2025-07-17T12:17:39.041113Z",
     "iopub.status.busy": "2025-07-17T12:17:39.040794Z",
     "iopub.status.idle": "2025-07-17T12:17:39.046402Z",
     "shell.execute_reply": "2025-07-17T12:17:39.045474Z"
    },
    "papermill": {
     "duration": 0.016847,
     "end_time": "2025-07-17T12:17:39.048037",
     "exception": false,
     "start_time": "2025-07-17T12:17:39.031190",
     "status": "completed"
    },
    "tags": []
   },
   "outputs": [
    {
     "data": {
      "text/plain": [
       "(1384, 19)"
      ]
     },
     "execution_count": 13,
     "metadata": {},
     "output_type": "execute_result"
    }
   ],
   "source": [
    "df.shape"
   ]
  },
  {
   "cell_type": "code",
   "execution_count": 14,
   "id": "27a7f5bd",
   "metadata": {
    "execution": {
     "iopub.execute_input": "2025-07-17T12:17:39.136729Z",
     "iopub.status.busy": "2025-07-17T12:17:39.136366Z",
     "iopub.status.idle": "2025-07-17T12:17:39.145445Z",
     "shell.execute_reply": "2025-07-17T12:17:39.144498Z"
    },
    "papermill": {
     "duration": 0.090305,
     "end_time": "2025-07-17T12:17:39.147193",
     "exception": false,
     "start_time": "2025-07-17T12:17:39.056888",
     "status": "completed"
    },
    "tags": []
   },
   "outputs": [
    {
     "data": {
      "text/plain": [
       "Project Name                    0\n",
       "Address                         0\n",
       "City                            0\n",
       "Country                         0\n",
       "Room Count                      0\n",
       "Projected Opening Date        315\n",
       "Project Phase                   0\n",
       "Affiliation Name                0\n",
       "Chain Scale                     0\n",
       "Condotel (Y/N)                  0\n",
       "Pool (Y/N)                      0\n",
       "Restaurant (Y/N)                0\n",
       "Business Center (Y/N)           0\n",
       "Meeting Space (Y/N)             0\n",
       "Project Area (1000 sq. ft)     21\n",
       "Data Source                     0\n",
       "Date Created                    0\n",
       "Latitude                        0\n",
       "Longitude                       0\n",
       "dtype: int64"
      ]
     },
     "execution_count": 14,
     "metadata": {},
     "output_type": "execute_result"
    }
   ],
   "source": [
    "df.isna().sum()"
   ]
  },
  {
   "cell_type": "markdown",
   "id": "308e4a3e",
   "metadata": {
    "papermill": {
     "duration": 0.008665,
     "end_time": "2025-07-17T12:17:39.165616",
     "exception": false,
     "start_time": "2025-07-17T12:17:39.156951",
     "status": "completed"
    },
    "tags": []
   },
   "source": [
    "### Standardize Data:\n",
    " - Convert Projected Opening Date to a datetime format using **pd.to_datetime(df['Projected Opening Date'], errors='coerce')** to enable temporal analysis.\n",
    " - Check for inconsistencies in categorical columns (e.g., Country or Chain Scale). For example, ensure \"United Arab Emirates\" isn’t listed as \"UAE\" elsewhere.\n",
    " - Handle anomalies in numerical columns (e.g., negative or extremely high Room Count or Project Value)."
   ]
  },
  {
   "cell_type": "code",
   "execution_count": 15,
   "id": "ae43800b",
   "metadata": {
    "execution": {
     "iopub.execute_input": "2025-07-17T12:17:39.187327Z",
     "iopub.status.busy": "2025-07-17T12:17:39.187032Z",
     "iopub.status.idle": "2025-07-17T12:17:39.202096Z",
     "shell.execute_reply": "2025-07-17T12:17:39.201004Z"
    },
    "papermill": {
     "duration": 0.02927,
     "end_time": "2025-07-17T12:17:39.203897",
     "exception": false,
     "start_time": "2025-07-17T12:17:39.174627",
     "status": "completed"
    },
    "tags": []
   },
   "outputs": [
    {
     "data": {
      "text/plain": [
       "0      2023-10-01\n",
       "1      2025-02-18\n",
       "2      2030-12-31\n",
       "3      2026-04-01\n",
       "4      2025-06-01\n",
       "          ...    \n",
       "1379   2025-02-01\n",
       "1380   2028-05-01\n",
       "1381   2027-09-30\n",
       "1382   2027-07-01\n",
       "1383   2027-01-01\n",
       "Name: Projected Opening Date, Length: 1384, dtype: datetime64[ns]"
      ]
     },
     "execution_count": 15,
     "metadata": {},
     "output_type": "execute_result"
    }
   ],
   "source": [
    "# Converting Projected Opening Date to DateTime Format\n",
    "pd.to_datetime(df['Projected Opening Date'], errors='coerce')"
   ]
  },
  {
   "cell_type": "code",
   "execution_count": 16,
   "id": "79218c30",
   "metadata": {
    "execution": {
     "iopub.execute_input": "2025-07-17T12:17:39.225038Z",
     "iopub.status.busy": "2025-07-17T12:17:39.224694Z",
     "iopub.status.idle": "2025-07-17T12:17:39.232278Z",
     "shell.execute_reply": "2025-07-17T12:17:39.231134Z"
    },
    "papermill": {
     "duration": 0.020572,
     "end_time": "2025-07-17T12:17:39.233942",
     "exception": false,
     "start_time": "2025-07-17T12:17:39.213370",
     "status": "completed"
    },
    "tags": []
   },
   "outputs": [
    {
     "data": {
      "text/plain": [
       "Project Name                   object\n",
       "Address                        object\n",
       "City                           object\n",
       "Country                        object\n",
       "Room Count                      int64\n",
       "Projected Opening Date         object\n",
       "Project Phase                  object\n",
       "Affiliation Name               object\n",
       "Chain Scale                    object\n",
       "Condotel (Y/N)                 object\n",
       "Pool (Y/N)                     object\n",
       "Restaurant (Y/N)               object\n",
       "Business Center (Y/N)          object\n",
       "Meeting Space (Y/N)            object\n",
       "Project Area (1000 sq. ft)    float64\n",
       "Data Source                    object\n",
       "Date Created                   object\n",
       "Latitude                      float64\n",
       "Longitude                     float64\n",
       "dtype: object"
      ]
     },
     "execution_count": 16,
     "metadata": {},
     "output_type": "execute_result"
    }
   ],
   "source": [
    "df.dtypes"
   ]
  },
  {
   "cell_type": "code",
   "execution_count": 17,
   "id": "f8fae83a",
   "metadata": {
    "execution": {
     "iopub.execute_input": "2025-07-17T12:17:39.254127Z",
     "iopub.status.busy": "2025-07-17T12:17:39.253807Z",
     "iopub.status.idle": "2025-07-17T12:17:39.261908Z",
     "shell.execute_reply": "2025-07-17T12:17:39.260861Z"
    },
    "papermill": {
     "duration": 0.020662,
     "end_time": "2025-07-17T12:17:39.263837",
     "exception": false,
     "start_time": "2025-07-17T12:17:39.243175",
     "status": "completed"
    },
    "tags": []
   },
   "outputs": [],
   "source": [
    "# Convert Project Opening Date to DateTime format\n",
    "df['Projected Opening Date'] = pd.to_datetime(df['Projected Opening Date'])"
   ]
  },
  {
   "cell_type": "code",
   "execution_count": 18,
   "id": "fc938625",
   "metadata": {
    "execution": {
     "iopub.execute_input": "2025-07-17T12:17:39.283554Z",
     "iopub.status.busy": "2025-07-17T12:17:39.283194Z",
     "iopub.status.idle": "2025-07-17T12:17:39.290741Z",
     "shell.execute_reply": "2025-07-17T12:17:39.289899Z"
    },
    "papermill": {
     "duration": 0.019076,
     "end_time": "2025-07-17T12:17:39.292301",
     "exception": false,
     "start_time": "2025-07-17T12:17:39.273225",
     "status": "completed"
    },
    "tags": []
   },
   "outputs": [
    {
     "data": {
      "text/plain": [
       "Project Name                          object\n",
       "Address                               object\n",
       "City                                  object\n",
       "Country                               object\n",
       "Room Count                             int64\n",
       "Projected Opening Date        datetime64[ns]\n",
       "Project Phase                         object\n",
       "Affiliation Name                      object\n",
       "Chain Scale                           object\n",
       "Condotel (Y/N)                        object\n",
       "Pool (Y/N)                            object\n",
       "Restaurant (Y/N)                      object\n",
       "Business Center (Y/N)                 object\n",
       "Meeting Space (Y/N)                   object\n",
       "Project Area (1000 sq. ft)           float64\n",
       "Data Source                           object\n",
       "Date Created                          object\n",
       "Latitude                             float64\n",
       "Longitude                            float64\n",
       "dtype: object"
      ]
     },
     "execution_count": 18,
     "metadata": {},
     "output_type": "execute_result"
    }
   ],
   "source": [
    "df.dtypes"
   ]
  },
  {
   "cell_type": "code",
   "execution_count": 19,
   "id": "e2a05831",
   "metadata": {
    "execution": {
     "iopub.execute_input": "2025-07-17T12:17:39.312576Z",
     "iopub.status.busy": "2025-07-17T12:17:39.312229Z",
     "iopub.status.idle": "2025-07-17T12:17:39.319260Z",
     "shell.execute_reply": "2025-07-17T12:17:39.317995Z"
    },
    "papermill": {
     "duration": 0.019036,
     "end_time": "2025-07-17T12:17:39.321045",
     "exception": false,
     "start_time": "2025-07-17T12:17:39.302009",
     "status": "completed"
    },
    "tags": []
   },
   "outputs": [
    {
     "name": "stdout",
     "output_type": "stream",
     "text": [
      "Unique Countries:\n",
      "['United Arab Emirates' 'Saudi Arabia' 'Senegal' 'Sierra Leone' 'Botswana'\n",
      " 'Egypt' 'Nigeria' 'Qatar' 'Morocco' 'Cape Verde' 'Algeria' 'Iraq'\n",
      " 'Ethiopia' 'Jordan' 'Syrian Arab Republic (Syria)' 'Oman' 'Madagascar'\n",
      " 'Tunisia' 'Mauritius' 'Mauritania' 'Kenya' 'Bahrain'\n",
      " 'Congo (Brazzaville)' 'Kuwait' 'Ghana' 'Angola' 'Uganda' 'Réunion'\n",
      " 'South Africa' 'Iran' 'Benin' \"Côte d'Ivoire\"\n",
      " 'United Republic of Tanzania' 'Niger' 'Malawi' 'Zambia' 'Mozambique'\n",
      " 'Cameroon' 'Liberia' 'Zimbabwe' 'Democratic Republic of the Congo'\n",
      " 'Rwanda' 'Djibouti' 'Guinea' 'Seychelles' 'Equatorial Guinea' 'Gabon'\n",
      " 'Chad' 'Somalia' 'Togo' 'Sudan' 'Namibia' 'Lebanon' 'The Gambia' 'Libya']\n",
      "\n",
      "Unique Chain Scales:\n",
      "['Upper Upscale Chain' 'Luxury Chain' 'Upper Midscale Chain'\n",
      " 'Upscale Chain' 'Independent' 'Midscale Chain' 'Economy Chain']\n"
     ]
    }
   ],
   "source": [
    "# Inspecting unique values in 'Country'and 'Chain Scale'\n",
    "\n",
    "#For Country, check if similar names appear (e.g., \"United Arab Emirates\" and \"UAE\").\n",
    "print(\"Unique Countries:\")\n",
    "print(df['Country'].unique())\n",
    "\n",
    "#For Chain Scale, check for variations like \"Luxury\" vs. \"Luxury Chain\" or case differences.\n",
    "print(\"\\nUnique Chain Scales:\")\n",
    "print(df['Chain Scale'].unique())"
   ]
  },
  {
   "cell_type": "markdown",
   "id": "2e4ea925",
   "metadata": {
    "papermill": {
     "duration": 0.008836,
     "end_time": "2025-07-17T12:17:39.339572",
     "exception": false,
     "start_time": "2025-07-17T12:17:39.330736",
     "status": "completed"
    },
    "tags": []
   },
   "source": [
    "**Result :**\n",
    "There seems to be no unique values in 'Country' and 'Chain Scale' columns."
   ]
  },
  {
   "cell_type": "markdown",
   "id": "a03db40f",
   "metadata": {
    "papermill": {
     "duration": 0.009094,
     "end_time": "2025-07-17T12:17:39.358369",
     "exception": false,
     "start_time": "2025-07-17T12:17:39.349275",
     "status": "completed"
    },
    "tags": []
   },
   "source": [
    "### Standardize String Formats\n",
    "To handle case differences, extra spaces, or punctuation, standardize the text in Country and Chain Scale."
   ]
  },
  {
   "cell_type": "code",
   "execution_count": 20,
   "id": "838c9ba8",
   "metadata": {
    "execution": {
     "iopub.execute_input": "2025-07-17T12:17:39.378954Z",
     "iopub.status.busy": "2025-07-17T12:17:39.378631Z",
     "iopub.status.idle": "2025-07-17T12:17:39.390813Z",
     "shell.execute_reply": "2025-07-17T12:17:39.389609Z"
    },
    "papermill": {
     "duration": 0.024203,
     "end_time": "2025-07-17T12:17:39.392487",
     "exception": false,
     "start_time": "2025-07-17T12:17:39.368284",
     "status": "completed"
    },
    "tags": []
   },
   "outputs": [
    {
     "name": "stdout",
     "output_type": "stream",
     "text": [
      "Unique Countries (after standardization):\n",
      "['united arab emirates' 'saudi arabia' 'senegal' 'sierra leone' 'botswana'\n",
      " 'egypt' 'nigeria' 'qatar' 'morocco' 'cape verde' 'algeria' 'iraq'\n",
      " 'ethiopia' 'jordan' 'syrian arab republic (syria)' 'oman' 'madagascar'\n",
      " 'tunisia' 'mauritius' 'mauritania' 'kenya' 'bahrain'\n",
      " 'congo (brazzaville)' 'kuwait' 'ghana' 'angola' 'uganda' 'réunion'\n",
      " 'south africa' 'iran' 'benin' \"côte d'ivoire\"\n",
      " 'united republic of tanzania' 'niger' 'malawi' 'zambia' 'mozambique'\n",
      " 'cameroon' 'liberia' 'zimbabwe' 'democratic republic of the congo'\n",
      " 'rwanda' 'djibouti' 'guinea' 'seychelles' 'equatorial guinea' 'gabon'\n",
      " 'chad' 'somalia' 'togo' 'sudan' 'namibia' 'lebanon' 'the gambia' 'libya']\n",
      "\n",
      "Unique Chain Scales(after standardization):\n",
      "['upper upscale chain' 'luxury chain' 'upper midscale chain'\n",
      " 'upscale chain' 'independent' 'midscale chain' 'economy chain']\n"
     ]
    }
   ],
   "source": [
    "# Convert to lowercase and strip/remove whitespace\n",
    "df['Country'] = df['Country'].str.lower().str.strip()\n",
    "df['Chain Scale'] = df['Chain Scale'].str.lower().str.strip()\n",
    "\n",
    "#Re-check unique values\n",
    "print(\"Unique Countries (after standardization):\")\n",
    "print(df['Country'].unique())\n",
    "print(\"\\nUnique Chain Scales(after standardization):\")\n",
    "print(df['Chain Scale'].unique())"
   ]
  },
  {
   "cell_type": "markdown",
   "id": "ebd306ad",
   "metadata": {
    "papermill": {
     "duration": 0.009613,
     "end_time": "2025-07-17T12:17:39.412357",
     "exception": false,
     "start_time": "2025-07-17T12:17:39.402744",
     "status": "completed"
    },
    "tags": []
   },
   "source": [
    "**Purpose :** \n",
    " - Converts \"EGYPT\" to \"egypt\" and removes trailing spaces (e.g., \"Saudi Arabia \" to \"saudi arabia\").\n",
    " - Ensures consistent formatting before further analysis.\n",
    " "
   ]
  },
  {
   "cell_type": "code",
   "execution_count": 21,
   "id": "50acb184",
   "metadata": {
    "execution": {
     "iopub.execute_input": "2025-07-17T12:17:39.433998Z",
     "iopub.status.busy": "2025-07-17T12:17:39.433616Z",
     "iopub.status.idle": "2025-07-17T12:17:39.460875Z",
     "shell.execute_reply": "2025-07-17T12:17:39.460010Z"
    },
    "papermill": {
     "duration": 0.039944,
     "end_time": "2025-07-17T12:17:39.462782",
     "exception": false,
     "start_time": "2025-07-17T12:17:39.422838",
     "status": "completed"
    },
    "tags": []
   },
   "outputs": [],
   "source": [
    "# Add New Columns for DataTime\n",
    "\n",
    "df['Expected Opening Year'] = df['Projected Opening Date'].dt.strftime('%Y') #New column for Year\n",
    "df['Expected Opening Month'] = df['Projected Opening Date'].dt.strftime('%Y - %b') #New column for Month\n",
    "df['Expected Opening Quarter'] = df['Projected Opening Date'].dt.to_period('Q').dt.strftime('%Y - Q%q') #New column for Quarter"
   ]
  },
  {
   "cell_type": "code",
   "execution_count": 22,
   "id": "911d0e4d",
   "metadata": {
    "execution": {
     "iopub.execute_input": "2025-07-17T12:17:39.484119Z",
     "iopub.status.busy": "2025-07-17T12:17:39.483776Z",
     "iopub.status.idle": "2025-07-17T12:17:39.504582Z",
     "shell.execute_reply": "2025-07-17T12:17:39.503841Z"
    },
    "papermill": {
     "duration": 0.033024,
     "end_time": "2025-07-17T12:17:39.505973",
     "exception": false,
     "start_time": "2025-07-17T12:17:39.472949",
     "status": "completed"
    },
    "tags": []
   },
   "outputs": [
    {
     "data": {
      "text/html": [
       "<div>\n",
       "<style scoped>\n",
       "    .dataframe tbody tr th:only-of-type {\n",
       "        vertical-align: middle;\n",
       "    }\n",
       "\n",
       "    .dataframe tbody tr th {\n",
       "        vertical-align: top;\n",
       "    }\n",
       "\n",
       "    .dataframe thead th {\n",
       "        text-align: right;\n",
       "    }\n",
       "</style>\n",
       "<table border=\"1\" class=\"dataframe\">\n",
       "  <thead>\n",
       "    <tr style=\"text-align: right;\">\n",
       "      <th></th>\n",
       "      <th>Project Name</th>\n",
       "      <th>Address</th>\n",
       "      <th>City</th>\n",
       "      <th>Country</th>\n",
       "      <th>Room Count</th>\n",
       "      <th>Projected Opening Date</th>\n",
       "      <th>Project Phase</th>\n",
       "      <th>Affiliation Name</th>\n",
       "      <th>Chain Scale</th>\n",
       "      <th>Condotel (Y/N)</th>\n",
       "      <th>...</th>\n",
       "      <th>Business Center (Y/N)</th>\n",
       "      <th>Meeting Space (Y/N)</th>\n",
       "      <th>Project Area (1000 sq. ft)</th>\n",
       "      <th>Data Source</th>\n",
       "      <th>Date Created</th>\n",
       "      <th>Latitude</th>\n",
       "      <th>Longitude</th>\n",
       "      <th>Expected Opening Year</th>\n",
       "      <th>Expected Opening Month</th>\n",
       "      <th>Expected Opening Quarter</th>\n",
       "    </tr>\n",
       "  </thead>\n",
       "  <tbody>\n",
       "    <tr>\n",
       "      <th>0</th>\n",
       "      <td>Hard Rock Abu Dhabi</td>\n",
       "      <td>Festival Blvd Zone 8A</td>\n",
       "      <td>Abu Dhabi</td>\n",
       "      <td>united arab emirates</td>\n",
       "      <td>378</td>\n",
       "      <td>2023-10-01</td>\n",
       "      <td>Abandoned</td>\n",
       "      <td>Hard Rock</td>\n",
       "      <td>upper upscale chain</td>\n",
       "      <td>N</td>\n",
       "      <td>...</td>\n",
       "      <td>Y</td>\n",
       "      <td>Y</td>\n",
       "      <td>283.50</td>\n",
       "      <td>Costar Research</td>\n",
       "      <td>12/01/2008</td>\n",
       "      <td>24.503017</td>\n",
       "      <td>54.372490</td>\n",
       "      <td>2023</td>\n",
       "      <td>2023 - Oct</td>\n",
       "      <td>2023 - Q4</td>\n",
       "    </tr>\n",
       "    <tr>\n",
       "      <th>1</th>\n",
       "      <td>Hilton Riyadh King Saud University</td>\n",
       "      <td>King Khaled Bin Abdul Aziz Road Rd</td>\n",
       "      <td>Riyadh</td>\n",
       "      <td>saudi arabia</td>\n",
       "      <td>241</td>\n",
       "      <td>2025-02-18</td>\n",
       "      <td>In Construction</td>\n",
       "      <td>Hilton</td>\n",
       "      <td>upper upscale chain</td>\n",
       "      <td>N</td>\n",
       "      <td>...</td>\n",
       "      <td>N</td>\n",
       "      <td>Y</td>\n",
       "      <td>97.91</td>\n",
       "      <td>Hospitality Feed</td>\n",
       "      <td>07/01/2010</td>\n",
       "      <td>24.708051</td>\n",
       "      <td>46.621446</td>\n",
       "      <td>2025</td>\n",
       "      <td>2025 - Feb</td>\n",
       "      <td>2025 - Q1</td>\n",
       "    </tr>\n",
       "    <tr>\n",
       "      <th>2</th>\n",
       "      <td>InterContinental Dakar</td>\n",
       "      <td>Les Deux Mamelles</td>\n",
       "      <td>Dakar</td>\n",
       "      <td>senegal</td>\n",
       "      <td>201</td>\n",
       "      <td>2030-12-31</td>\n",
       "      <td>In Construction</td>\n",
       "      <td>InterContinental</td>\n",
       "      <td>luxury chain</td>\n",
       "      <td>N</td>\n",
       "      <td>...</td>\n",
       "      <td>N</td>\n",
       "      <td>Y</td>\n",
       "      <td>97.36</td>\n",
       "      <td>Hospitality Feed</td>\n",
       "      <td>07/01/2008</td>\n",
       "      <td>14.721126</td>\n",
       "      <td>-17.499653</td>\n",
       "      <td>2030</td>\n",
       "      <td>2030 - Dec</td>\n",
       "      <td>2030 - Q4</td>\n",
       "    </tr>\n",
       "    <tr>\n",
       "      <th>3</th>\n",
       "      <td>Hilton Freetown Cape Sierra</td>\n",
       "      <td>Cape Road Aberdeen Rd</td>\n",
       "      <td>Freetown</td>\n",
       "      <td>sierra leone</td>\n",
       "      <td>200</td>\n",
       "      <td>2026-04-01</td>\n",
       "      <td>In Construction</td>\n",
       "      <td>Hilton</td>\n",
       "      <td>upper upscale chain</td>\n",
       "      <td>N</td>\n",
       "      <td>...</td>\n",
       "      <td>Y</td>\n",
       "      <td>Y</td>\n",
       "      <td>150.70</td>\n",
       "      <td>Hospitality Feed</td>\n",
       "      <td>08/01/2011</td>\n",
       "      <td>8.493333</td>\n",
       "      <td>-13.289921</td>\n",
       "      <td>2026</td>\n",
       "      <td>2026 - Apr</td>\n",
       "      <td>2026 - Q2</td>\n",
       "    </tr>\n",
       "    <tr>\n",
       "      <th>4</th>\n",
       "      <td>Protea Hotel Fire &amp; Ice Gaborone</td>\n",
       "      <td>Gaborone West Extension</td>\n",
       "      <td>Gaborone</td>\n",
       "      <td>botswana</td>\n",
       "      <td>160</td>\n",
       "      <td>2025-06-01</td>\n",
       "      <td>Planning</td>\n",
       "      <td>Protea Hotel</td>\n",
       "      <td>upper midscale chain</td>\n",
       "      <td>N</td>\n",
       "      <td>...</td>\n",
       "      <td>N</td>\n",
       "      <td>N</td>\n",
       "      <td>65.00</td>\n",
       "      <td>Hospitality Feed</td>\n",
       "      <td>12/01/2008</td>\n",
       "      <td>-24.652461</td>\n",
       "      <td>25.926103</td>\n",
       "      <td>2025</td>\n",
       "      <td>2025 - Jun</td>\n",
       "      <td>2025 - Q2</td>\n",
       "    </tr>\n",
       "  </tbody>\n",
       "</table>\n",
       "<p>5 rows × 22 columns</p>\n",
       "</div>"
      ],
      "text/plain": [
       "                         Project Name                             Address  \\\n",
       "0                 Hard Rock Abu Dhabi               Festival Blvd Zone 8A   \n",
       "1  Hilton Riyadh King Saud University  King Khaled Bin Abdul Aziz Road Rd   \n",
       "2              InterContinental Dakar                   Les Deux Mamelles   \n",
       "3         Hilton Freetown Cape Sierra               Cape Road Aberdeen Rd   \n",
       "4    Protea Hotel Fire & Ice Gaborone             Gaborone West Extension   \n",
       "\n",
       "        City               Country  Room Count Projected Opening Date  \\\n",
       "0  Abu Dhabi  united arab emirates         378             2023-10-01   \n",
       "1     Riyadh          saudi arabia         241             2025-02-18   \n",
       "2      Dakar               senegal         201             2030-12-31   \n",
       "3   Freetown          sierra leone         200             2026-04-01   \n",
       "4   Gaborone              botswana         160             2025-06-01   \n",
       "\n",
       "     Project Phase  Affiliation Name           Chain Scale Condotel (Y/N)  \\\n",
       "0        Abandoned         Hard Rock   upper upscale chain              N   \n",
       "1  In Construction            Hilton   upper upscale chain              N   \n",
       "2  In Construction  InterContinental          luxury chain              N   \n",
       "3  In Construction            Hilton   upper upscale chain              N   \n",
       "4         Planning     Protea Hotel   upper midscale chain              N   \n",
       "\n",
       "   ... Business Center (Y/N) Meeting Space (Y/N) Project Area (1000 sq. ft)  \\\n",
       "0  ...                     Y                   Y                     283.50   \n",
       "1  ...                     N                   Y                      97.91   \n",
       "2  ...                     N                   Y                      97.36   \n",
       "3  ...                     Y                   Y                     150.70   \n",
       "4  ...                     N                   N                      65.00   \n",
       "\n",
       "        Data Source  Date Created   Latitude  Longitude  \\\n",
       "0   Costar Research    12/01/2008  24.503017  54.372490   \n",
       "1  Hospitality Feed    07/01/2010  24.708051  46.621446   \n",
       "2  Hospitality Feed    07/01/2008  14.721126 -17.499653   \n",
       "3  Hospitality Feed    08/01/2011   8.493333 -13.289921   \n",
       "4  Hospitality Feed    12/01/2008 -24.652461  25.926103   \n",
       "\n",
       "   Expected Opening Year  Expected Opening Month Expected Opening Quarter  \n",
       "0                   2023              2023 - Oct                2023 - Q4  \n",
       "1                   2025              2025 - Feb                2025 - Q1  \n",
       "2                   2030              2030 - Dec                2030 - Q4  \n",
       "3                   2026              2026 - Apr                2026 - Q2  \n",
       "4                   2025              2025 - Jun                2025 - Q2  \n",
       "\n",
       "[5 rows x 22 columns]"
      ]
     },
     "execution_count": 22,
     "metadata": {},
     "output_type": "execute_result"
    }
   ],
   "source": [
    "df.head()"
   ]
  },
  {
   "cell_type": "markdown",
   "id": "ee8aa647",
   "metadata": {
    "papermill": {
     "duration": 0.009435,
     "end_time": "2025-07-17T12:17:39.525337",
     "exception": false,
     "start_time": "2025-07-17T12:17:39.515902",
     "status": "completed"
    },
    "tags": []
   },
   "source": [
    "## Domain-Specific Cleaning:\n",
    " - Given my focus is on Africa, filter for African countries (e.g., Senegal, Nigeria, Egypt) and check for the number of projects in each country.\n",
    " - Check amenities like Meeting Space (Y/N) or Number of Meeting Rooms, as these relate to your experience with digital signage and meeting room solutions."
   ]
  },
  {
   "cell_type": "code",
   "execution_count": 23,
   "id": "79cafe42",
   "metadata": {
    "execution": {
     "iopub.execute_input": "2025-07-17T12:17:39.545718Z",
     "iopub.status.busy": "2025-07-17T12:17:39.545257Z",
     "iopub.status.idle": "2025-07-17T12:17:39.558809Z",
     "shell.execute_reply": "2025-07-17T12:17:39.557164Z"
    },
    "papermill": {
     "duration": 0.02557,
     "end_time": "2025-07-17T12:17:39.560326",
     "exception": false,
     "start_time": "2025-07-17T12:17:39.534756",
     "status": "completed"
    },
    "tags": []
   },
   "outputs": [
    {
     "name": "stdout",
     "output_type": "stream",
     "text": [
      "Number of Projects by African Country:\n",
      "Country\n",
      "egypt                               128\n",
      "morocco                              53\n",
      "ethiopia                             45\n",
      "nigeria                              44\n",
      "south africa                         27\n",
      "kenya                                27\n",
      "ghana                                17\n",
      "united republic of tanzania          16\n",
      "algeria                              16\n",
      "senegal                              14\n",
      "cape verde                           14\n",
      "cameroon                             13\n",
      "mauritius                            12\n",
      "uganda                               10\n",
      "tunisia                               9\n",
      "zambia                                9\n",
      "angola                                7\n",
      "democratic republic of the congo      7\n",
      "botswana                              6\n",
      "mozambique                            6\n",
      "djibouti                              6\n",
      "rwanda                                6\n",
      "zimbabwe                              6\n",
      "benin                                 4\n",
      "seychelles                            3\n",
      "guinea                                3\n",
      "madagascar                            3\n",
      "liberia                               2\n",
      "mauritania                            2\n",
      "malawi                                2\n",
      "sierra leone                          2\n",
      "somalia                               1\n",
      "namibia                               1\n",
      "sudan                                 1\n",
      "togo                                  1\n",
      "niger                                 1\n",
      "chad                                  1\n",
      "gabon                                 1\n",
      "equatorial guinea                     1\n",
      "libya                                 1\n",
      "Name: count, dtype: int64\n"
     ]
    }
   ],
   "source": [
    "# Define a list for African Countries\n",
    "\n",
    "african_countries = [\n",
    "    'algeria',\n",
    "    'angola',\n",
    "    'benin',\n",
    "    'botswana',\n",
    "    'burkina faso',\n",
    "    'burundi',\n",
    "    'cape verde',\n",
    "    'cameroon',\n",
    "    'central african republic',\n",
    "    'chad',\n",
    "    'comoros',\n",
    "    'congo',  # For Republic of the Congo\n",
    "    'democratic republic of the congo',\n",
    "    'djibouti',\n",
    "    'egypt',\n",
    "    'equatorial guinea',\n",
    "    'eritrea',\n",
    "    'eswatini',\n",
    "    'ethiopia',\n",
    "    'gabon',\n",
    "    'gambia',\n",
    "    'ghana',\n",
    "    'guinea',\n",
    "    'guinea-bissau',\n",
    "    'ivory coast',  # Preferred over 'Côte d'Ivoire' for simplicity\n",
    "    'kenya',\n",
    "    'lesotho',\n",
    "    'liberia',\n",
    "    'libya',\n",
    "    'madagascar',\n",
    "    'malawi',\n",
    "    'mali',\n",
    "    'mauritania',\n",
    "    'mauritius',\n",
    "    'morocco',\n",
    "    'mozambique',\n",
    "    'namibia',\n",
    "    'niger',\n",
    "    'nigeria',\n",
    "    'rwanda',\n",
    "    'sao tome and principe',\n",
    "    'senegal',\n",
    "    'seychelles',\n",
    "    'sierra leone',\n",
    "    'somalia',\n",
    "    'south africa',\n",
    "    'south sudan',\n",
    "    'sudan',\n",
    "    'united republic of tanzania',\n",
    "    'togo',\n",
    "    'tunisia',\n",
    "    'uganda',\n",
    "    'zambia',\n",
    "    'zimbabwe'\n",
    "]\n",
    "#Filter for African Countries\n",
    "df_africa = df[df['Country'].isin(african_countries)]\n",
    "\n",
    "#Check for number of projects per African Country\n",
    "print(\"Number of Projects by African Country:\")\n",
    "print(df_africa['Country'].value_counts())"
   ]
  },
  {
   "cell_type": "markdown",
   "id": "da3e554a",
   "metadata": {
    "papermill": {
     "duration": 0.009528,
     "end_time": "2025-07-17T12:17:39.579811",
     "exception": false,
     "start_time": "2025-07-17T12:17:39.570283",
     "status": "completed"
    },
    "tags": []
   },
   "source": [
    "### Clean and Validate Amenities Data\n",
    "Focus on **Meeting Space (Y/N)** and **Number of Meeting Rooms**, as these relate to my experience with digital signage and meeting room solutions.\n"
   ]
  },
  {
   "cell_type": "code",
   "execution_count": 24,
   "id": "a8d629d5",
   "metadata": {
    "execution": {
     "iopub.execute_input": "2025-07-17T12:17:39.601321Z",
     "iopub.status.busy": "2025-07-17T12:17:39.601030Z",
     "iopub.status.idle": "2025-07-17T12:17:39.627064Z",
     "shell.execute_reply": "2025-07-17T12:17:39.625824Z"
    },
    "papermill": {
     "duration": 0.039084,
     "end_time": "2025-07-17T12:17:39.628921",
     "exception": false,
     "start_time": "2025-07-17T12:17:39.589837",
     "status": "completed"
    },
    "tags": []
   },
   "outputs": [
    {
     "data": {
      "text/html": [
       "<div>\n",
       "<style scoped>\n",
       "    .dataframe tbody tr th:only-of-type {\n",
       "        vertical-align: middle;\n",
       "    }\n",
       "\n",
       "    .dataframe tbody tr th {\n",
       "        vertical-align: top;\n",
       "    }\n",
       "\n",
       "    .dataframe thead th {\n",
       "        text-align: right;\n",
       "    }\n",
       "</style>\n",
       "<table border=\"1\" class=\"dataframe\">\n",
       "  <thead>\n",
       "    <tr style=\"text-align: right;\">\n",
       "      <th></th>\n",
       "      <th>Project Name</th>\n",
       "      <th>Address</th>\n",
       "      <th>City</th>\n",
       "      <th>Country</th>\n",
       "      <th>Room Count</th>\n",
       "      <th>Projected Opening Date</th>\n",
       "      <th>Project Phase</th>\n",
       "      <th>Affiliation Name</th>\n",
       "      <th>Chain Scale</th>\n",
       "      <th>Condotel (Y/N)</th>\n",
       "      <th>...</th>\n",
       "      <th>Business Center (Y/N)</th>\n",
       "      <th>Meeting Space (Y/N)</th>\n",
       "      <th>Project Area (1000 sq. ft)</th>\n",
       "      <th>Data Source</th>\n",
       "      <th>Date Created</th>\n",
       "      <th>Latitude</th>\n",
       "      <th>Longitude</th>\n",
       "      <th>Expected Opening Year</th>\n",
       "      <th>Expected Opening Month</th>\n",
       "      <th>Expected Opening Quarter</th>\n",
       "    </tr>\n",
       "  </thead>\n",
       "  <tbody>\n",
       "    <tr>\n",
       "      <th>2</th>\n",
       "      <td>InterContinental Dakar</td>\n",
       "      <td>Les Deux Mamelles</td>\n",
       "      <td>Dakar</td>\n",
       "      <td>senegal</td>\n",
       "      <td>201</td>\n",
       "      <td>2030-12-31</td>\n",
       "      <td>In Construction</td>\n",
       "      <td>InterContinental</td>\n",
       "      <td>luxury chain</td>\n",
       "      <td>N</td>\n",
       "      <td>...</td>\n",
       "      <td>N</td>\n",
       "      <td>Y</td>\n",
       "      <td>97.36</td>\n",
       "      <td>Hospitality Feed</td>\n",
       "      <td>07/01/2008</td>\n",
       "      <td>14.721126</td>\n",
       "      <td>-17.499653</td>\n",
       "      <td>2030</td>\n",
       "      <td>2030 - Dec</td>\n",
       "      <td>2030 - Q4</td>\n",
       "    </tr>\n",
       "    <tr>\n",
       "      <th>3</th>\n",
       "      <td>Hilton Freetown Cape Sierra</td>\n",
       "      <td>Cape Road Aberdeen Rd</td>\n",
       "      <td>Freetown</td>\n",
       "      <td>sierra leone</td>\n",
       "      <td>200</td>\n",
       "      <td>2026-04-01</td>\n",
       "      <td>In Construction</td>\n",
       "      <td>Hilton</td>\n",
       "      <td>upper upscale chain</td>\n",
       "      <td>N</td>\n",
       "      <td>...</td>\n",
       "      <td>Y</td>\n",
       "      <td>Y</td>\n",
       "      <td>150.70</td>\n",
       "      <td>Hospitality Feed</td>\n",
       "      <td>08/01/2011</td>\n",
       "      <td>8.493333</td>\n",
       "      <td>-13.289921</td>\n",
       "      <td>2026</td>\n",
       "      <td>2026 - Apr</td>\n",
       "      <td>2026 - Q2</td>\n",
       "    </tr>\n",
       "    <tr>\n",
       "      <th>4</th>\n",
       "      <td>Protea Hotel Fire &amp; Ice Gaborone</td>\n",
       "      <td>Gaborone West Extension</td>\n",
       "      <td>Gaborone</td>\n",
       "      <td>botswana</td>\n",
       "      <td>160</td>\n",
       "      <td>2025-06-01</td>\n",
       "      <td>Planning</td>\n",
       "      <td>Protea Hotel</td>\n",
       "      <td>upper midscale chain</td>\n",
       "      <td>N</td>\n",
       "      <td>...</td>\n",
       "      <td>N</td>\n",
       "      <td>N</td>\n",
       "      <td>65.00</td>\n",
       "      <td>Hospitality Feed</td>\n",
       "      <td>12/01/2008</td>\n",
       "      <td>-24.652461</td>\n",
       "      <td>25.926103</td>\n",
       "      <td>2025</td>\n",
       "      <td>2025 - Jun</td>\n",
       "      <td>2025 - Q2</td>\n",
       "    </tr>\n",
       "    <tr>\n",
       "      <th>5</th>\n",
       "      <td>The Ritz-Carlton Hotel &amp; Residences Palm Hills...</td>\n",
       "      <td>Al Gabalayah</td>\n",
       "      <td>Giza</td>\n",
       "      <td>egypt</td>\n",
       "      <td>150</td>\n",
       "      <td>2028-03-01</td>\n",
       "      <td>Planning</td>\n",
       "      <td>Ritz-Carlton</td>\n",
       "      <td>luxury chain</td>\n",
       "      <td>N</td>\n",
       "      <td>...</td>\n",
       "      <td>Y</td>\n",
       "      <td>Y</td>\n",
       "      <td>150.70</td>\n",
       "      <td>Costar Research</td>\n",
       "      <td>01/13/2012</td>\n",
       "      <td>30.057712</td>\n",
       "      <td>31.218944</td>\n",
       "      <td>2028</td>\n",
       "      <td>2028 - Mar</td>\n",
       "      <td>2028 - Q1</td>\n",
       "    </tr>\n",
       "    <tr>\n",
       "      <th>7</th>\n",
       "      <td>Radisson Blu Hotel Abuja CBD</td>\n",
       "      <td>Unknown Address</td>\n",
       "      <td>Abuja</td>\n",
       "      <td>nigeria</td>\n",
       "      <td>104</td>\n",
       "      <td>2025-03-10</td>\n",
       "      <td>In Construction</td>\n",
       "      <td>Radisson Blu</td>\n",
       "      <td>upper upscale chain</td>\n",
       "      <td>N</td>\n",
       "      <td>...</td>\n",
       "      <td>N</td>\n",
       "      <td>Y</td>\n",
       "      <td>78.36</td>\n",
       "      <td>Costar Research</td>\n",
       "      <td>08/01/2009</td>\n",
       "      <td>9.055207</td>\n",
       "      <td>7.489868</td>\n",
       "      <td>2025</td>\n",
       "      <td>2025 - Mar</td>\n",
       "      <td>2025 - Q1</td>\n",
       "    </tr>\n",
       "    <tr>\n",
       "      <th>...</th>\n",
       "      <td>...</td>\n",
       "      <td>...</td>\n",
       "      <td>...</td>\n",
       "      <td>...</td>\n",
       "      <td>...</td>\n",
       "      <td>...</td>\n",
       "      <td>...</td>\n",
       "      <td>...</td>\n",
       "      <td>...</td>\n",
       "      <td>...</td>\n",
       "      <td>...</td>\n",
       "      <td>...</td>\n",
       "      <td>...</td>\n",
       "      <td>...</td>\n",
       "      <td>...</td>\n",
       "      <td>...</td>\n",
       "      <td>...</td>\n",
       "      <td>...</td>\n",
       "      <td>...</td>\n",
       "      <td>...</td>\n",
       "      <td>...</td>\n",
       "    </tr>\n",
       "    <tr>\n",
       "      <th>1374</th>\n",
       "      <td>Delta by Marriott Antananarivo</td>\n",
       "      <td>Rue Ampanjaka Toera</td>\n",
       "      <td>Antananarivo</td>\n",
       "      <td>madagascar</td>\n",
       "      <td>106</td>\n",
       "      <td>2025-02-28</td>\n",
       "      <td>Planning</td>\n",
       "      <td>Delta Hotel</td>\n",
       "      <td>upscale chain</td>\n",
       "      <td>N</td>\n",
       "      <td>...</td>\n",
       "      <td>N</td>\n",
       "      <td>Y</td>\n",
       "      <td>51.34</td>\n",
       "      <td>Costar Research</td>\n",
       "      <td>03/26/2024</td>\n",
       "      <td>-18.900342</td>\n",
       "      <td>47.520881</td>\n",
       "      <td>2025</td>\n",
       "      <td>2025 - Feb</td>\n",
       "      <td>2025 - Q1</td>\n",
       "    </tr>\n",
       "    <tr>\n",
       "      <th>1376</th>\n",
       "      <td>Crown Plaza Oran</td>\n",
       "      <td>Hai El Ghoualem</td>\n",
       "      <td>Oran</td>\n",
       "      <td>algeria</td>\n",
       "      <td>157</td>\n",
       "      <td>2025-03-15</td>\n",
       "      <td>Planning</td>\n",
       "      <td>Crowne Plaza</td>\n",
       "      <td>upscale chain</td>\n",
       "      <td>N</td>\n",
       "      <td>...</td>\n",
       "      <td>N</td>\n",
       "      <td>N</td>\n",
       "      <td>76.05</td>\n",
       "      <td>Costar Research</td>\n",
       "      <td>04/03/2024</td>\n",
       "      <td>35.688031</td>\n",
       "      <td>-0.643127</td>\n",
       "      <td>2025</td>\n",
       "      <td>2025 - Mar</td>\n",
       "      <td>2025 - Q1</td>\n",
       "    </tr>\n",
       "    <tr>\n",
       "      <th>1377</th>\n",
       "      <td>Hotel Royal Maxim Port Said Vignette Collection</td>\n",
       "      <td>15 September Street</td>\n",
       "      <td>Port Fouad</td>\n",
       "      <td>egypt</td>\n",
       "      <td>140</td>\n",
       "      <td>2028-03-15</td>\n",
       "      <td>Planning</td>\n",
       "      <td>Vignette Collection</td>\n",
       "      <td>luxury chain</td>\n",
       "      <td>N</td>\n",
       "      <td>...</td>\n",
       "      <td>N</td>\n",
       "      <td>Y</td>\n",
       "      <td>10.76</td>\n",
       "      <td>Costar Research</td>\n",
       "      <td>04/03/2024</td>\n",
       "      <td>31.248984</td>\n",
       "      <td>32.315268</td>\n",
       "      <td>2028</td>\n",
       "      <td>2028 - Mar</td>\n",
       "      <td>2028 - Q1</td>\n",
       "    </tr>\n",
       "    <tr>\n",
       "      <th>1379</th>\n",
       "      <td>Pyramid Continental Hotel Lusaka</td>\n",
       "      <td>Thabo Mbeki Rd</td>\n",
       "      <td>Lusaka</td>\n",
       "      <td>zambia</td>\n",
       "      <td>212</td>\n",
       "      <td>2025-02-01</td>\n",
       "      <td>In Construction</td>\n",
       "      <td>Independent</td>\n",
       "      <td>independent</td>\n",
       "      <td>N</td>\n",
       "      <td>...</td>\n",
       "      <td>N</td>\n",
       "      <td>N</td>\n",
       "      <td>102.69</td>\n",
       "      <td>Costar Research</td>\n",
       "      <td>04/04/2024</td>\n",
       "      <td>-15.398895</td>\n",
       "      <td>28.322196</td>\n",
       "      <td>2025</td>\n",
       "      <td>2025 - Feb</td>\n",
       "      <td>2025 - Q1</td>\n",
       "    </tr>\n",
       "    <tr>\n",
       "      <th>1382</th>\n",
       "      <td>Hilton Garden Inn New Cairo Teseen Street</td>\n",
       "      <td>90 New Cairo</td>\n",
       "      <td>Cairo</td>\n",
       "      <td>egypt</td>\n",
       "      <td>170</td>\n",
       "      <td>2027-07-01</td>\n",
       "      <td>Planning</td>\n",
       "      <td>Hilton Garden Inn</td>\n",
       "      <td>upscale chain</td>\n",
       "      <td>N</td>\n",
       "      <td>...</td>\n",
       "      <td>N</td>\n",
       "      <td>N</td>\n",
       "      <td>82.34</td>\n",
       "      <td>Costar Research</td>\n",
       "      <td>04/04/2024</td>\n",
       "      <td>30.017530</td>\n",
       "      <td>31.424708</td>\n",
       "      <td>2027</td>\n",
       "      <td>2027 - Jul</td>\n",
       "      <td>2027 - Q3</td>\n",
       "    </tr>\n",
       "  </tbody>\n",
       "</table>\n",
       "<p>528 rows × 22 columns</p>\n",
       "</div>"
      ],
      "text/plain": [
       "                                           Project Name  \\\n",
       "2                                InterContinental Dakar   \n",
       "3                           Hilton Freetown Cape Sierra   \n",
       "4                      Protea Hotel Fire & Ice Gaborone   \n",
       "5     The Ritz-Carlton Hotel & Residences Palm Hills...   \n",
       "7                          Radisson Blu Hotel Abuja CBD   \n",
       "...                                                 ...   \n",
       "1374                     Delta by Marriott Antananarivo   \n",
       "1376                                   Crown Plaza Oran   \n",
       "1377    Hotel Royal Maxim Port Said Vignette Collection   \n",
       "1379                   Pyramid Continental Hotel Lusaka   \n",
       "1382          Hilton Garden Inn New Cairo Teseen Street   \n",
       "\n",
       "                      Address          City       Country  Room Count  \\\n",
       "2           Les Deux Mamelles         Dakar       senegal         201   \n",
       "3       Cape Road Aberdeen Rd      Freetown  sierra leone         200   \n",
       "4     Gaborone West Extension      Gaborone      botswana         160   \n",
       "5                Al Gabalayah          Giza         egypt         150   \n",
       "7             Unknown Address         Abuja       nigeria         104   \n",
       "...                       ...           ...           ...         ...   \n",
       "1374      Rue Ampanjaka Toera  Antananarivo    madagascar         106   \n",
       "1376          Hai El Ghoualem          Oran       algeria         157   \n",
       "1377      15 September Street    Port Fouad         egypt         140   \n",
       "1379           Thabo Mbeki Rd        Lusaka        zambia         212   \n",
       "1382             90 New Cairo         Cairo         egypt         170   \n",
       "\n",
       "     Projected Opening Date    Project Phase     Affiliation Name  \\\n",
       "2                2030-12-31  In Construction     InterContinental   \n",
       "3                2026-04-01  In Construction               Hilton   \n",
       "4                2025-06-01         Planning        Protea Hotel    \n",
       "5                2028-03-01         Planning         Ritz-Carlton   \n",
       "7                2025-03-10  In Construction         Radisson Blu   \n",
       "...                     ...              ...                  ...   \n",
       "1374             2025-02-28         Planning          Delta Hotel   \n",
       "1376             2025-03-15         Planning         Crowne Plaza   \n",
       "1377             2028-03-15         Planning  Vignette Collection   \n",
       "1379             2025-02-01  In Construction          Independent   \n",
       "1382             2027-07-01         Planning    Hilton Garden Inn   \n",
       "\n",
       "               Chain Scale Condotel (Y/N)  ... Business Center (Y/N)  \\\n",
       "2             luxury chain              N  ...                     N   \n",
       "3      upper upscale chain              N  ...                     Y   \n",
       "4     upper midscale chain              N  ...                     N   \n",
       "5             luxury chain              N  ...                     Y   \n",
       "7      upper upscale chain              N  ...                     N   \n",
       "...                    ...            ...  ...                   ...   \n",
       "1374         upscale chain              N  ...                     N   \n",
       "1376         upscale chain              N  ...                     N   \n",
       "1377          luxury chain              N  ...                     N   \n",
       "1379           independent              N  ...                     N   \n",
       "1382         upscale chain              N  ...                     N   \n",
       "\n",
       "     Meeting Space (Y/N) Project Area (1000 sq. ft)       Data Source  \\\n",
       "2                      Y                      97.36  Hospitality Feed   \n",
       "3                      Y                     150.70  Hospitality Feed   \n",
       "4                      N                      65.00  Hospitality Feed   \n",
       "5                      Y                     150.70   Costar Research   \n",
       "7                      Y                      78.36   Costar Research   \n",
       "...                  ...                        ...               ...   \n",
       "1374                   Y                      51.34   Costar Research   \n",
       "1376                   N                      76.05   Costar Research   \n",
       "1377                   Y                      10.76   Costar Research   \n",
       "1379                   N                     102.69   Costar Research   \n",
       "1382                   N                      82.34   Costar Research   \n",
       "\n",
       "      Date Created   Latitude  Longitude  Expected Opening Year  \\\n",
       "2       07/01/2008  14.721126 -17.499653                   2030   \n",
       "3       08/01/2011   8.493333 -13.289921                   2026   \n",
       "4       12/01/2008 -24.652461  25.926103                   2025   \n",
       "5       01/13/2012  30.057712  31.218944                   2028   \n",
       "7       08/01/2009   9.055207   7.489868                   2025   \n",
       "...            ...        ...        ...                    ...   \n",
       "1374    03/26/2024 -18.900342  47.520881                   2025   \n",
       "1376    04/03/2024  35.688031  -0.643127                   2025   \n",
       "1377    04/03/2024  31.248984  32.315268                   2028   \n",
       "1379    04/04/2024 -15.398895  28.322196                   2025   \n",
       "1382    04/04/2024  30.017530  31.424708                   2027   \n",
       "\n",
       "      Expected Opening Month Expected Opening Quarter  \n",
       "2                 2030 - Dec                2030 - Q4  \n",
       "3                 2026 - Apr                2026 - Q2  \n",
       "4                 2025 - Jun                2025 - Q2  \n",
       "5                 2028 - Mar                2028 - Q1  \n",
       "7                 2025 - Mar                2025 - Q1  \n",
       "...                      ...                      ...  \n",
       "1374              2025 - Feb                2025 - Q1  \n",
       "1376              2025 - Mar                2025 - Q1  \n",
       "1377              2028 - Mar                2028 - Q1  \n",
       "1379              2025 - Feb                2025 - Q1  \n",
       "1382              2027 - Jul                2027 - Q3  \n",
       "\n",
       "[528 rows x 22 columns]"
      ]
     },
     "execution_count": 24,
     "metadata": {},
     "output_type": "execute_result"
    }
   ],
   "source": [
    "df_africa"
   ]
  },
  {
   "cell_type": "code",
   "execution_count": 25,
   "id": "941f1ede",
   "metadata": {
    "execution": {
     "iopub.execute_input": "2025-07-17T12:17:39.652467Z",
     "iopub.status.busy": "2025-07-17T12:17:39.652104Z",
     "iopub.status.idle": "2025-07-17T12:17:39.660037Z",
     "shell.execute_reply": "2025-07-17T12:17:39.658725Z"
    },
    "papermill": {
     "duration": 0.022398,
     "end_time": "2025-07-17T12:17:39.661779",
     "exception": false,
     "start_time": "2025-07-17T12:17:39.639381",
     "status": "completed"
    },
    "tags": []
   },
   "outputs": [
    {
     "name": "stdout",
     "output_type": "stream",
     "text": [
      "Missing values in Ammenities Columns:\n",
      "Meeting Space (Y/N)    0\n",
      "dtype: int64\n"
     ]
    }
   ],
   "source": [
    "# Check for missing values in amenities columns\n",
    "print(\"Missing values in Ammenities Columns:\")\n",
    "print(df_africa[['Meeting Space (Y/N)']].isnull().sum())"
   ]
  },
  {
   "cell_type": "code",
   "execution_count": 26,
   "id": "ebac0fab",
   "metadata": {
    "execution": {
     "iopub.execute_input": "2025-07-17T12:17:39.685170Z",
     "iopub.status.busy": "2025-07-17T12:17:39.684881Z",
     "iopub.status.idle": "2025-07-17T12:17:39.700867Z",
     "shell.execute_reply": "2025-07-17T12:17:39.700047Z"
    },
    "papermill": {
     "duration": 0.029226,
     "end_time": "2025-07-17T12:17:39.702329",
     "exception": false,
     "start_time": "2025-07-17T12:17:39.673103",
     "status": "completed"
    },
    "tags": []
   },
   "outputs": [
    {
     "data": {
      "text/plain": [
       "Country   Room Count\n",
       "algeria   101           2\n",
       "          54            1\n",
       "          70            1\n",
       "          120           1\n",
       "          130           1\n",
       "                       ..\n",
       "zimbabwe  54            2\n",
       "          99            1\n",
       "          160           1\n",
       "          180           1\n",
       "          238           1\n",
       "Name: count, Length: 424, dtype: int64"
      ]
     },
     "execution_count": 26,
     "metadata": {},
     "output_type": "execute_result"
    }
   ],
   "source": [
    "# Let's check what is the size of the hotels in each country based on room count\n",
    "\n",
    "africa_room_count = df_africa.groupby('Country')['Room Count'].value_counts()\n",
    "africa_room_count"
   ]
  },
  {
   "cell_type": "code",
   "execution_count": 27,
   "id": "99bb4eff",
   "metadata": {
    "execution": {
     "iopub.execute_input": "2025-07-17T12:17:39.724689Z",
     "iopub.status.busy": "2025-07-17T12:17:39.724268Z",
     "iopub.status.idle": "2025-07-17T12:17:39.732246Z",
     "shell.execute_reply": "2025-07-17T12:17:39.731017Z"
    },
    "papermill": {
     "duration": 0.021247,
     "end_time": "2025-07-17T12:17:39.734060",
     "exception": false,
     "start_time": "2025-07-17T12:17:39.712813",
     "status": "completed"
    },
    "tags": []
   },
   "outputs": [
    {
     "data": {
      "text/plain": [
       "Room Count\n",
       "120    3\n",
       "20     2\n",
       "100    2\n",
       "105    2\n",
       "150    2\n",
       "200    2\n",
       "4      1\n",
       "57     1\n",
       "75     1\n",
       "80     1\n",
       "125    1\n",
       "146    1\n",
       "168    1\n",
       "189    1\n",
       "240    1\n",
       "246    1\n",
       "250    1\n",
       "255    1\n",
       "346    1\n",
       "960    1\n",
       "Name: count, dtype: int64"
      ]
     },
     "execution_count": 27,
     "metadata": {},
     "output_type": "execute_result"
    }
   ],
   "source": [
    "# Let's see the hotels based on room counts/size in Kenya\n",
    "africa_room_count['kenya']"
   ]
  },
  {
   "cell_type": "code",
   "execution_count": 28,
   "id": "010dc788",
   "metadata": {
    "execution": {
     "iopub.execute_input": "2025-07-17T12:17:39.757672Z",
     "iopub.status.busy": "2025-07-17T12:17:39.757306Z",
     "iopub.status.idle": "2025-07-17T12:17:39.765886Z",
     "shell.execute_reply": "2025-07-17T12:17:39.764589Z"
    },
    "papermill": {
     "duration": 0.022356,
     "end_time": "2025-07-17T12:17:39.767732",
     "exception": false,
     "start_time": "2025-07-17T12:17:39.745376",
     "status": "completed"
    },
    "tags": []
   },
   "outputs": [
    {
     "data": {
      "text/plain": [
       "27"
      ]
     },
     "execution_count": 28,
     "metadata": {},
     "output_type": "execute_result"
    }
   ],
   "source": [
    "# Total number of hotels in Kenya\n",
    "africa_room_count['kenya'].sum()"
   ]
  },
  {
   "cell_type": "markdown",
   "id": "017cc516",
   "metadata": {
    "papermill": {
     "duration": 0.010223,
     "end_time": "2025-07-17T12:17:39.788691",
     "exception": false,
     "start_time": "2025-07-17T12:17:39.778468",
     "status": "completed"
    },
    "tags": []
   },
   "source": [
    "We have basically created a small program to check the number of hotels based on room count in Africa."
   ]
  },
  {
   "cell_type": "code",
   "execution_count": 29,
   "id": "b8004d23",
   "metadata": {
    "execution": {
     "iopub.execute_input": "2025-07-17T12:17:39.812902Z",
     "iopub.status.busy": "2025-07-17T12:17:39.812569Z",
     "iopub.status.idle": "2025-07-17T12:17:39.819117Z",
     "shell.execute_reply": "2025-07-17T12:17:39.818116Z"
    },
    "papermill": {
     "duration": 0.020597,
     "end_time": "2025-07-17T12:17:39.820984",
     "exception": false,
     "start_time": "2025-07-17T12:17:39.800387",
     "status": "completed"
    },
    "tags": []
   },
   "outputs": [
    {
     "data": {
      "text/plain": [
       "94193"
      ]
     },
     "execution_count": 29,
     "metadata": {},
     "output_type": "execute_result"
    }
   ],
   "source": [
    "total_africa_rooms = df_africa['Room Count'].sum()\n",
    "total_africa_rooms"
   ]
  },
  {
   "cell_type": "markdown",
   "id": "ac8fc1f2",
   "metadata": {
    "papermill": {
     "duration": 0.01055,
     "end_time": "2025-07-17T12:17:39.842309",
     "exception": false,
     "start_time": "2025-07-17T12:17:39.831759",
     "status": "completed"
    },
    "tags": []
   },
   "source": [
    "## Analysis of Large African Hotels (200+ Rooms)"
   ]
  },
  {
   "cell_type": "code",
   "execution_count": 30,
   "id": "8b004e91",
   "metadata": {
    "execution": {
     "iopub.execute_input": "2025-07-17T12:17:39.865233Z",
     "iopub.status.busy": "2025-07-17T12:17:39.864939Z",
     "iopub.status.idle": "2025-07-17T12:17:39.879106Z",
     "shell.execute_reply": "2025-07-17T12:17:39.877926Z"
    },
    "papermill": {
     "duration": 0.027784,
     "end_time": "2025-07-17T12:17:39.880830",
     "exception": false,
     "start_time": "2025-07-17T12:17:39.853046",
     "status": "completed"
    },
    "tags": []
   },
   "outputs": [
    {
     "data": {
      "text/html": [
       "<div>\n",
       "<style scoped>\n",
       "    .dataframe tbody tr th:only-of-type {\n",
       "        vertical-align: middle;\n",
       "    }\n",
       "\n",
       "    .dataframe tbody tr th {\n",
       "        vertical-align: top;\n",
       "    }\n",
       "\n",
       "    .dataframe thead th {\n",
       "        text-align: right;\n",
       "    }\n",
       "</style>\n",
       "<table border=\"1\" class=\"dataframe\">\n",
       "  <thead>\n",
       "    <tr style=\"text-align: right;\">\n",
       "      <th></th>\n",
       "      <th>Project Name</th>\n",
       "      <th>Country</th>\n",
       "      <th>City</th>\n",
       "      <th>Room Count</th>\n",
       "      <th>Meeting Space (Y/N)</th>\n",
       "    </tr>\n",
       "  </thead>\n",
       "  <tbody>\n",
       "    <tr>\n",
       "      <th>2</th>\n",
       "      <td>InterContinental Dakar</td>\n",
       "      <td>senegal</td>\n",
       "      <td>Dakar</td>\n",
       "      <td>201</td>\n",
       "      <td>Y</td>\n",
       "    </tr>\n",
       "    <tr>\n",
       "      <th>3</th>\n",
       "      <td>Hilton Freetown Cape Sierra</td>\n",
       "      <td>sierra leone</td>\n",
       "      <td>Freetown</td>\n",
       "      <td>200</td>\n",
       "      <td>Y</td>\n",
       "    </tr>\n",
       "    <tr>\n",
       "      <th>12</th>\n",
       "      <td>Melia White Sands Hotel &amp; Spa</td>\n",
       "      <td>cape verde</td>\n",
       "      <td>Boa Vista</td>\n",
       "      <td>835</td>\n",
       "      <td>Y</td>\n",
       "    </tr>\n",
       "    <tr>\n",
       "      <th>14</th>\n",
       "      <td>Marriott Executive Apartments Algiers</td>\n",
       "      <td>algeria</td>\n",
       "      <td>Algiers</td>\n",
       "      <td>350</td>\n",
       "      <td>N</td>\n",
       "    </tr>\n",
       "    <tr>\n",
       "      <th>15</th>\n",
       "      <td>Hilton Port Harcourt Transcorp</td>\n",
       "      <td>nigeria</td>\n",
       "      <td>Port Harcourt</td>\n",
       "      <td>267</td>\n",
       "      <td>Y</td>\n",
       "    </tr>\n",
       "    <tr>\n",
       "      <th>...</th>\n",
       "      <td>...</td>\n",
       "      <td>...</td>\n",
       "      <td>...</td>\n",
       "      <td>...</td>\n",
       "      <td>...</td>\n",
       "    </tr>\n",
       "    <tr>\n",
       "      <th>1350</th>\n",
       "      <td>Wyndham Hotels and Resorts Moreen Bay</td>\n",
       "      <td>egypt</td>\n",
       "      <td>Marsa Alam</td>\n",
       "      <td>207</td>\n",
       "      <td>Y</td>\n",
       "    </tr>\n",
       "    <tr>\n",
       "      <th>1351</th>\n",
       "      <td>Catalonia Grand Zanzibar All suites and Spa</td>\n",
       "      <td>united republic of tanzania</td>\n",
       "      <td>Pwani Mchangani</td>\n",
       "      <td>272</td>\n",
       "      <td>N</td>\n",
       "    </tr>\n",
       "    <tr>\n",
       "      <th>1356</th>\n",
       "      <td>DoubleTree by Hilton Sharm El Sheikh - Sharks ...</td>\n",
       "      <td>egypt</td>\n",
       "      <td>Sharm El Sheikh</td>\n",
       "      <td>273</td>\n",
       "      <td>Y</td>\n",
       "    </tr>\n",
       "    <tr>\n",
       "      <th>1360</th>\n",
       "      <td>Melia Luanda</td>\n",
       "      <td>angola</td>\n",
       "      <td>Luanda</td>\n",
       "      <td>250</td>\n",
       "      <td>N</td>\n",
       "    </tr>\n",
       "    <tr>\n",
       "      <th>1379</th>\n",
       "      <td>Pyramid Continental Hotel Lusaka</td>\n",
       "      <td>zambia</td>\n",
       "      <td>Lusaka</td>\n",
       "      <td>212</td>\n",
       "      <td>N</td>\n",
       "    </tr>\n",
       "  </tbody>\n",
       "</table>\n",
       "<p>166 rows × 5 columns</p>\n",
       "</div>"
      ],
      "text/plain": [
       "                                           Project Name  \\\n",
       "2                                InterContinental Dakar   \n",
       "3                           Hilton Freetown Cape Sierra   \n",
       "12                        Melia White Sands Hotel & Spa   \n",
       "14                Marriott Executive Apartments Algiers   \n",
       "15                       Hilton Port Harcourt Transcorp   \n",
       "...                                                 ...   \n",
       "1350              Wyndham Hotels and Resorts Moreen Bay   \n",
       "1351        Catalonia Grand Zanzibar All suites and Spa   \n",
       "1356  DoubleTree by Hilton Sharm El Sheikh - Sharks ...   \n",
       "1360                                       Melia Luanda   \n",
       "1379                   Pyramid Continental Hotel Lusaka   \n",
       "\n",
       "                          Country             City  Room Count  \\\n",
       "2                         senegal            Dakar         201   \n",
       "3                    sierra leone         Freetown         200   \n",
       "12                     cape verde        Boa Vista         835   \n",
       "14                        algeria          Algiers         350   \n",
       "15                        nigeria    Port Harcourt         267   \n",
       "...                           ...              ...         ...   \n",
       "1350                        egypt       Marsa Alam         207   \n",
       "1351  united republic of tanzania  Pwani Mchangani         272   \n",
       "1356                        egypt  Sharm El Sheikh         273   \n",
       "1360                       angola           Luanda         250   \n",
       "1379                       zambia           Lusaka         212   \n",
       "\n",
       "     Meeting Space (Y/N)  \n",
       "2                      Y  \n",
       "3                      Y  \n",
       "12                     Y  \n",
       "14                     N  \n",
       "15                     Y  \n",
       "...                  ...  \n",
       "1350                   Y  \n",
       "1351                   N  \n",
       "1356                   Y  \n",
       "1360                   N  \n",
       "1379                   N  \n",
       "\n",
       "[166 rows x 5 columns]"
      ]
     },
     "execution_count": 30,
     "metadata": {},
     "output_type": "execute_result"
    }
   ],
   "source": [
    "# Let's see the hotels that have a room count greater than or equal to 200\n",
    "africa_rooms200 =df_africa[df_africa['Room Count']>=200]\n",
    "\n",
    "#Display key columns\n",
    "africa_rooms200[['Project Name','Country','City','Room Count','Meeting Space (Y/N)']]"
   ]
  },
  {
   "cell_type": "markdown",
   "id": "5ae15691",
   "metadata": {
    "papermill": {
     "duration": 0.01075,
     "end_time": "2025-07-17T12:17:39.902991",
     "exception": false,
     "start_time": "2025-07-17T12:17:39.892241",
     "status": "completed"
    },
    "tags": []
   },
   "source": [
    "### Visualize and Summarize\n",
    "Visualize the results to highlight trends in larger African hotels, tying into your digital signage and hotel TV expertise:\n",
    "\n"
   ]
  },
  {
   "cell_type": "code",
   "execution_count": 31,
   "id": "f8496fd7",
   "metadata": {
    "execution": {
     "iopub.execute_input": "2025-07-17T12:17:39.926884Z",
     "iopub.status.busy": "2025-07-17T12:17:39.926552Z",
     "iopub.status.idle": "2025-07-17T12:17:40.375799Z",
     "shell.execute_reply": "2025-07-17T12:17:40.374790Z"
    },
    "papermill": {
     "duration": 0.463917,
     "end_time": "2025-07-17T12:17:40.377921",
     "exception": false,
     "start_time": "2025-07-17T12:17:39.914004",
     "status": "completed"
    },
    "tags": []
   },
   "outputs": [
    {
     "data": {
      "image/png": "[encoded data removed]",
      "text/plain": [
       "<Figure size 640x480 with 1 Axes>"
      ]
     },
     "metadata": {},
     "output_type": "display_data"
    }
   ],
   "source": [
    "# Plot the number of large hotels by country\n",
    "sns.countplot(data=africa_rooms200, y='Country')\n",
    "plt.title('African Hotels with 200+ Rooms by Country')\n",
    "plt.xlabel('Number of Projects')\n",
    "plt.ylabel('Country')\n",
    "plt.show()"
   ]
  },
  {
   "cell_type": "code",
   "execution_count": 32,
   "id": "bce288ed",
   "metadata": {
    "execution": {
     "iopub.execute_input": "2025-07-17T12:17:40.405078Z",
     "iopub.status.busy": "2025-07-17T12:17:40.404753Z",
     "iopub.status.idle": "2025-07-17T12:17:40.990345Z",
     "shell.execute_reply": "2025-07-17T12:17:40.989253Z"
    },
    "papermill": {
     "duration": 0.60232,
     "end_time": "2025-07-17T12:17:40.992878",
     "exception": false,
     "start_time": "2025-07-17T12:17:40.390558",
     "status": "completed"
    },
    "tags": []
   },
   "outputs": [
    {
     "data": {
      "image/png": "[encoded data removed]",
      "text/plain": [
       "<Figure size 640x480 with 1 Axes>"
      ]
     },
     "metadata": {},
     "output_type": "display_data"
    }
   ],
   "source": [
    "# Plot the propotion of all hotels with meeting spaces\n",
    "sns.countplot(data=df_africa, y = 'Country', hue='Meeting Space (Y/N)')\n",
    "plt.title('Meeting Space Availability in all Africa Hotel Projects')\n",
    "plt.xlabel('Number of Projects')\n",
    "plt.ylabel('Country')\n",
    "plt.show()"
   ]
  },
  {
   "cell_type": "code",
   "execution_count": 33,
   "id": "7db711ef",
   "metadata": {
    "execution": {
     "iopub.execute_input": "2025-07-17T12:17:41.023869Z",
     "iopub.status.busy": "2025-07-17T12:17:41.023554Z",
     "iopub.status.idle": "2025-07-17T12:17:41.446694Z",
     "shell.execute_reply": "2025-07-17T12:17:41.445506Z"
    },
    "papermill": {
     "duration": 0.439635,
     "end_time": "2025-07-17T12:17:41.448481",
     "exception": false,
     "start_time": "2025-07-17T12:17:41.008846",
     "status": "completed"
    },
    "tags": []
   },
   "outputs": [
    {
     "data": {
      "image/png": "[encoded data removed]",
      "text/plain": [
       "<Figure size 640x480 with 1 Axes>"
      ]
     },
     "metadata": {},
     "output_type": "display_data"
    }
   ],
   "source": [
    "# Plot the propotion of large hotels with meeting spaces\n",
    "sns.countplot(data=africa_rooms200, y='Country',hue='Meeting Space (Y/N)')\n",
    "plt.title('Meeting Space Availiability in Africa Hotels with 200+ Rooms')\n",
    "plt.xlabel('Number of Projects')\n",
    "plt.ylabel('Countries')\n",
    "plt.show()"
   ]
  },
  {
   "cell_type": "code",
   "execution_count": 34,
   "id": "9591483e",
   "metadata": {
    "execution": {
     "iopub.execute_input": "2025-07-17T12:17:41.479235Z",
     "iopub.status.busy": "2025-07-17T12:17:41.478902Z",
     "iopub.status.idle": "2025-07-17T12:17:41.502261Z",
     "shell.execute_reply": "2025-07-17T12:17:41.501123Z"
    },
    "papermill": {
     "duration": 0.040738,
     "end_time": "2025-07-17T12:17:41.503880",
     "exception": false,
     "start_time": "2025-07-17T12:17:41.463142",
     "status": "completed"
    },
    "tags": []
   },
   "outputs": [
    {
     "name": "stdout",
     "output_type": "stream",
     "text": [
      "Percentage of large African Hotels with Meeting Spaces by Country:\n",
      "Country\n",
      "algeria                         50.000000\n",
      "angola                          50.000000\n",
      "botswana                         0.000000\n",
      "cameroon                        50.000000\n",
      "cape verde                      50.000000\n",
      "chad                           100.000000\n",
      "egypt                           60.563380\n",
      "equatorial guinea              100.000000\n",
      "ethiopia                        68.750000\n",
      "ghana                           14.285714\n",
      "guinea                         100.000000\n",
      "kenya                           37.500000\n",
      "madagascar                     100.000000\n",
      "mauritania                     100.000000\n",
      "mauritius                        0.000000\n",
      "morocco                         83.333333\n",
      "nigeria                         54.545455\n",
      "senegal                         50.000000\n",
      "sierra leone                   100.000000\n",
      "south africa                     0.000000\n",
      "tunisia                         66.666667\n",
      "uganda                         100.000000\n",
      "united republic of tanzania      0.000000\n",
      "zambia                          50.000000\n",
      "zimbabwe                         0.000000\n",
      "Name: Y, dtype: float64\n"
     ]
    }
   ],
   "source": [
    "# Summarize the meeting space prevalence\n",
    "print(\"Percentage of large African Hotels with Meeting Spaces by Country:\")\n",
    "meeting_space_summary = africa_rooms200.groupby('Country')['Meeting Space (Y/N)'].value_counts(normalize=True).unstack().fillna(0)\n",
    "print(meeting_space_summary['Y']*100)"
   ]
  },
  {
   "cell_type": "code",
   "execution_count": null,
   "id": "e66161ae",
   "metadata": {
    "papermill": {
     "duration": 0.014499,
     "end_time": "2025-07-17T12:17:41.532943",
     "exception": false,
     "start_time": "2025-07-17T12:17:41.518444",
     "status": "completed"
    },
    "tags": []
   },
   "outputs": [],
   "source": []
  }
 ],
 "metadata": {
  "kaggle": {
   "accelerator": "none",
   "dataSources": [
    {
     "datasetId": 7799486,
     "sourceId": 12370116,
     "sourceType": "datasetVersion"
    }
   ],
   "dockerImageVersionId": 31040,
   "isGpuEnabled": false,
   "isInternetEnabled": true,
   "language": "python",
   "sourceType": "notebook"
  },
  "kernelspec": {
   "display_name": "Python 3",
   "language": "python",
   "name": "python3"
  },
  "language_info": {
   "codemirror_mode": {
    "name": "ipython",
    "version": 3
   },
   "file_extension": ".py",
   "mimetype": "text/x-python",
   "name": "python",
   "nbconvert_exporter": "python",
   "pygments_lexer": "ipython3",
   "version": "3.11.11"
  },
  "papermill": {
   "default_parameters": {},
   "duration": 14.638605,
   "end_time": "2025-07-17T12:17:42.269230",
   "environment_variables": {},
   "exception": null,
   "input_path": "__notebook__.ipynb",
   "output_path": "__notebook__.ipynb",
   "parameters": {},
   "start_time": "2025-07-17T12:17:27.630625",
   "version": "2.6.0"
  }
 },
 "nbformat": 4,
 "nbformat_minor": 5
}
